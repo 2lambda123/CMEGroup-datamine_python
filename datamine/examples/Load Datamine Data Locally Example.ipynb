{
 "cells": [
  {
   "cell_type": "markdown",
   "metadata": {
    "collapsed": true
   },
   "source": [
    "# Load Datamine Data Locally\n",
    "\n",
    "This workbook will demonstrate using the datamine package to source all your datamine data from CME Group and save it into local folders.\n",
    "\n",
    "This is a working example for reference and is a starting point for more advanced use cases.  This workbook will demonstrate the following workflow\n",
    "1. Credentialling into Datamine\n",
    "2. Retrieving your data catalog of items\n",
    "3. Downloading your data items to your local directories\n",
    "\n",
    "This package does take some basic shortcuts to keep things simple.  They may be improved over time.  This includes\n",
    "1. Package is not cacheing your data catalog locally.  It downloads the catalog each time; if you have a lot of data items (i.e. > 10,000 this may take some time.)\n",
    "2. Package is always downloading all data from Datamine for a given data collection.  It will overwrite local copies of the data.  \n",
    "\n"
   ]
  },
  {
   "cell_type": "code",
   "execution_count": 1,
   "metadata": {},
   "outputs": [],
   "source": [
    "import datamine.datamine.io.datamine_io as dm\n",
    "import pandas as pd\n",
    "import warnings\n",
    "warnings.filterwarnings(\"ignore\")\n",
    "import matplotlib.pyplot as plt\n",
    "import matplotlib.dates as mdates\n",
    "from matplotlib import style\n",
    "style.use('fivethirtyeight')\n",
    "\n",
    "%matplotlib inline\n"
   ]
  },
  {
   "cell_type": "code",
   "execution_count": 2,
   "metadata": {},
   "outputs": [],
   "source": [
    "#Establish an object to interact with CME Datamine.\n",
    "#Supply Credentials per Documentation: http://www.cmegroup.com/market-data/datamine-api.html\n",
    "myDatamine = dm.DatamineCon(user='', passwrd='^', path='./data/')"
   ]
  },
  {
   "cell_type": "markdown",
   "metadata": {},
   "source": [
    "## Get Your Catalog Of Data\n",
    "\n",
    "Datamine hosts all your subscriptions for download which you can see in the GUI.  https://datamine.cmegroup.com/\n",
    "\n",
    "The following code will download a catalog of all your items.  We will turn that into a Pandas DataFrame to see what data we have in our account.\n"
   ]
  },
  {
   "cell_type": "code",
   "execution_count": 3,
   "metadata": {
    "scrolled": true
   },
   "outputs": [
    {
     "data": {
      "text/plain": [
       "0"
      ]
     },
     "execution_count": 3,
     "metadata": {},
     "output_type": "execute_result"
    }
   ],
   "source": [
    "#Get the first 1,000 items for Crytocurrencies\n",
    "myDatamine.get_catalog(dataset='CRYPTOCURRENCY', limit=1000)"
   ]
  },
  {
   "cell_type": "code",
   "execution_count": 7,
   "metadata": {},
   "outputs": [
    {
     "name": "stdout",
     "output_type": "stream",
     "text": [
      "paging Catalog: page=104\n"
     ]
    },
    {
     "ename": "ReadTimeout",
     "evalue": "HTTPSConnectionPool(host='datamine.cmegroup.com', port=443): Read timed out. (read timeout=60)",
     "output_type": "error",
     "traceback": [
      "\u001b[0;31m---------------------------------------------------------------------------\u001b[0m",
      "\u001b[0;31mtimeout\u001b[0m                                   Traceback (most recent call last)",
      "\u001b[0;32m//anaconda/lib/python3.5/site-packages/requests/packages/urllib3/connectionpool.py\u001b[0m in \u001b[0;36m_make_request\u001b[0;34m(self, conn, method, url, timeout, chunked, **httplib_request_kw)\u001b[0m\n\u001b[1;32m    390\u001b[0m                     \u001b[0;31m# otherwise it looks like a programming error was the cause.\u001b[0m\u001b[0;34m\u001b[0m\u001b[0;34m\u001b[0m\u001b[0m\n\u001b[0;32m--> 391\u001b[0;31m                     \u001b[0msix\u001b[0m\u001b[0;34m.\u001b[0m\u001b[0mraise_from\u001b[0m\u001b[0;34m(\u001b[0m\u001b[0me\u001b[0m\u001b[0;34m,\u001b[0m \u001b[0;32mNone\u001b[0m\u001b[0;34m)\u001b[0m\u001b[0;34m\u001b[0m\u001b[0m\n\u001b[0m\u001b[1;32m    392\u001b[0m         \u001b[0;32mexcept\u001b[0m \u001b[0;34m(\u001b[0m\u001b[0mSocketTimeout\u001b[0m\u001b[0;34m,\u001b[0m \u001b[0mBaseSSLError\u001b[0m\u001b[0;34m,\u001b[0m \u001b[0mSocketError\u001b[0m\u001b[0;34m)\u001b[0m \u001b[0;32mas\u001b[0m \u001b[0me\u001b[0m\u001b[0;34m:\u001b[0m\u001b[0;34m\u001b[0m\u001b[0m\n",
      "\u001b[0;32m//anaconda/lib/python3.5/site-packages/requests/packages/urllib3/packages/six.py\u001b[0m in \u001b[0;36mraise_from\u001b[0;34m(value, from_value)\u001b[0m\n",
      "\u001b[0;32m//anaconda/lib/python3.5/site-packages/requests/packages/urllib3/connectionpool.py\u001b[0m in \u001b[0;36m_make_request\u001b[0;34m(self, conn, method, url, timeout, chunked, **httplib_request_kw)\u001b[0m\n\u001b[1;32m    386\u001b[0m                 \u001b[0;32mtry\u001b[0m\u001b[0;34m:\u001b[0m\u001b[0;34m\u001b[0m\u001b[0m\n\u001b[0;32m--> 387\u001b[0;31m                     \u001b[0mhttplib_response\u001b[0m \u001b[0;34m=\u001b[0m \u001b[0mconn\u001b[0m\u001b[0;34m.\u001b[0m\u001b[0mgetresponse\u001b[0m\u001b[0;34m(\u001b[0m\u001b[0;34m)\u001b[0m\u001b[0;34m\u001b[0m\u001b[0m\n\u001b[0m\u001b[1;32m    388\u001b[0m                 \u001b[0;32mexcept\u001b[0m \u001b[0mException\u001b[0m \u001b[0;32mas\u001b[0m \u001b[0me\u001b[0m\u001b[0;34m:\u001b[0m\u001b[0;34m\u001b[0m\u001b[0m\n",
      "\u001b[0;32m//anaconda/lib/python3.5/http/client.py\u001b[0m in \u001b[0;36mgetresponse\u001b[0;34m(self)\u001b[0m\n\u001b[1;32m   1197\u001b[0m             \u001b[0;32mtry\u001b[0m\u001b[0;34m:\u001b[0m\u001b[0;34m\u001b[0m\u001b[0m\n\u001b[0;32m-> 1198\u001b[0;31m                 \u001b[0mresponse\u001b[0m\u001b[0;34m.\u001b[0m\u001b[0mbegin\u001b[0m\u001b[0;34m(\u001b[0m\u001b[0;34m)\u001b[0m\u001b[0;34m\u001b[0m\u001b[0m\n\u001b[0m\u001b[1;32m   1199\u001b[0m             \u001b[0;32mexcept\u001b[0m \u001b[0mConnectionError\u001b[0m\u001b[0;34m:\u001b[0m\u001b[0;34m\u001b[0m\u001b[0m\n",
      "\u001b[0;32m//anaconda/lib/python3.5/http/client.py\u001b[0m in \u001b[0;36mbegin\u001b[0;34m(self)\u001b[0m\n\u001b[1;32m    296\u001b[0m         \u001b[0;32mwhile\u001b[0m \u001b[0;32mTrue\u001b[0m\u001b[0;34m:\u001b[0m\u001b[0;34m\u001b[0m\u001b[0m\n\u001b[0;32m--> 297\u001b[0;31m             \u001b[0mversion\u001b[0m\u001b[0;34m,\u001b[0m \u001b[0mstatus\u001b[0m\u001b[0;34m,\u001b[0m \u001b[0mreason\u001b[0m \u001b[0;34m=\u001b[0m \u001b[0mself\u001b[0m\u001b[0;34m.\u001b[0m\u001b[0m_read_status\u001b[0m\u001b[0;34m(\u001b[0m\u001b[0;34m)\u001b[0m\u001b[0;34m\u001b[0m\u001b[0m\n\u001b[0m\u001b[1;32m    298\u001b[0m             \u001b[0;32mif\u001b[0m \u001b[0mstatus\u001b[0m \u001b[0;34m!=\u001b[0m \u001b[0mCONTINUE\u001b[0m\u001b[0;34m:\u001b[0m\u001b[0;34m\u001b[0m\u001b[0m\n",
      "\u001b[0;32m//anaconda/lib/python3.5/http/client.py\u001b[0m in \u001b[0;36m_read_status\u001b[0;34m(self)\u001b[0m\n\u001b[1;32m    257\u001b[0m     \u001b[0;32mdef\u001b[0m \u001b[0m_read_status\u001b[0m\u001b[0;34m(\u001b[0m\u001b[0mself\u001b[0m\u001b[0;34m)\u001b[0m\u001b[0;34m:\u001b[0m\u001b[0;34m\u001b[0m\u001b[0m\n\u001b[0;32m--> 258\u001b[0;31m         \u001b[0mline\u001b[0m \u001b[0;34m=\u001b[0m \u001b[0mstr\u001b[0m\u001b[0;34m(\u001b[0m\u001b[0mself\u001b[0m\u001b[0;34m.\u001b[0m\u001b[0mfp\u001b[0m\u001b[0;34m.\u001b[0m\u001b[0mreadline\u001b[0m\u001b[0;34m(\u001b[0m\u001b[0m_MAXLINE\u001b[0m \u001b[0;34m+\u001b[0m \u001b[0;36m1\u001b[0m\u001b[0;34m)\u001b[0m\u001b[0;34m,\u001b[0m \u001b[0;34m\"iso-8859-1\"\u001b[0m\u001b[0;34m)\u001b[0m\u001b[0;34m\u001b[0m\u001b[0m\n\u001b[0m\u001b[1;32m    259\u001b[0m         \u001b[0;32mif\u001b[0m \u001b[0mlen\u001b[0m\u001b[0;34m(\u001b[0m\u001b[0mline\u001b[0m\u001b[0;34m)\u001b[0m \u001b[0;34m>\u001b[0m \u001b[0m_MAXLINE\u001b[0m\u001b[0;34m:\u001b[0m\u001b[0;34m\u001b[0m\u001b[0m\n",
      "\u001b[0;32m//anaconda/lib/python3.5/socket.py\u001b[0m in \u001b[0;36mreadinto\u001b[0;34m(self, b)\u001b[0m\n\u001b[1;32m    575\u001b[0m             \u001b[0;32mtry\u001b[0m\u001b[0;34m:\u001b[0m\u001b[0;34m\u001b[0m\u001b[0m\n\u001b[0;32m--> 576\u001b[0;31m                 \u001b[0;32mreturn\u001b[0m \u001b[0mself\u001b[0m\u001b[0;34m.\u001b[0m\u001b[0m_sock\u001b[0m\u001b[0;34m.\u001b[0m\u001b[0mrecv_into\u001b[0m\u001b[0;34m(\u001b[0m\u001b[0mb\u001b[0m\u001b[0;34m)\u001b[0m\u001b[0;34m\u001b[0m\u001b[0m\n\u001b[0m\u001b[1;32m    577\u001b[0m             \u001b[0;32mexcept\u001b[0m \u001b[0mtimeout\u001b[0m\u001b[0;34m:\u001b[0m\u001b[0;34m\u001b[0m\u001b[0m\n",
      "\u001b[0;32m//anaconda/lib/python3.5/site-packages/requests/packages/urllib3/contrib/pyopenssl.py\u001b[0m in \u001b[0;36mrecv_into\u001b[0;34m(self, *args, **kwargs)\u001b[0m\n\u001b[1;32m    270\u001b[0m             \u001b[0;32mif\u001b[0m \u001b[0;32mnot\u001b[0m \u001b[0mrd\u001b[0m\u001b[0;34m:\u001b[0m\u001b[0;34m\u001b[0m\u001b[0m\n\u001b[0;32m--> 271\u001b[0;31m                 \u001b[0;32mraise\u001b[0m \u001b[0mtimeout\u001b[0m\u001b[0;34m(\u001b[0m\u001b[0;34m'The read operation timed out'\u001b[0m\u001b[0;34m)\u001b[0m\u001b[0;34m\u001b[0m\u001b[0m\n\u001b[0m\u001b[1;32m    272\u001b[0m             \u001b[0;32melse\u001b[0m\u001b[0;34m:\u001b[0m\u001b[0;34m\u001b[0m\u001b[0m\n",
      "\u001b[0;31mtimeout\u001b[0m: The read operation timed out",
      "\nDuring handling of the above exception, another exception occurred:\n",
      "\u001b[0;31mReadTimeoutError\u001b[0m                          Traceback (most recent call last)",
      "\u001b[0;32m//anaconda/lib/python3.5/site-packages/requests/adapters.py\u001b[0m in \u001b[0;36msend\u001b[0;34m(self, request, stream, timeout, verify, cert, proxies)\u001b[0m\n\u001b[1;32m    422\u001b[0m                     \u001b[0mretries\u001b[0m\u001b[0;34m=\u001b[0m\u001b[0mself\u001b[0m\u001b[0;34m.\u001b[0m\u001b[0mmax_retries\u001b[0m\u001b[0;34m,\u001b[0m\u001b[0;34m\u001b[0m\u001b[0m\n\u001b[0;32m--> 423\u001b[0;31m                     \u001b[0mtimeout\u001b[0m\u001b[0;34m=\u001b[0m\u001b[0mtimeout\u001b[0m\u001b[0;34m\u001b[0m\u001b[0m\n\u001b[0m\u001b[1;32m    424\u001b[0m                 )\n",
      "\u001b[0;32m//anaconda/lib/python3.5/site-packages/requests/packages/urllib3/connectionpool.py\u001b[0m in \u001b[0;36murlopen\u001b[0;34m(self, method, url, body, headers, retries, redirect, assert_same_host, timeout, pool_timeout, release_conn, chunked, **response_kw)\u001b[0m\n\u001b[1;32m    642\u001b[0m             retries = retries.increment(method, url, error=e, _pool=self,\n\u001b[0;32m--> 643\u001b[0;31m                                         _stacktrace=sys.exc_info()[2])\n\u001b[0m\u001b[1;32m    644\u001b[0m             \u001b[0mretries\u001b[0m\u001b[0;34m.\u001b[0m\u001b[0msleep\u001b[0m\u001b[0;34m(\u001b[0m\u001b[0;34m)\u001b[0m\u001b[0;34m\u001b[0m\u001b[0m\n",
      "\u001b[0;32m//anaconda/lib/python3.5/site-packages/requests/packages/urllib3/util/retry.py\u001b[0m in \u001b[0;36mincrement\u001b[0;34m(self, method, url, response, error, _pool, _stacktrace)\u001b[0m\n\u001b[1;32m    333\u001b[0m             \u001b[0;32mif\u001b[0m \u001b[0mread\u001b[0m \u001b[0;32mis\u001b[0m \u001b[0;32mFalse\u001b[0m\u001b[0;34m:\u001b[0m\u001b[0;34m\u001b[0m\u001b[0m\n\u001b[0;32m--> 334\u001b[0;31m                 \u001b[0;32mraise\u001b[0m \u001b[0msix\u001b[0m\u001b[0;34m.\u001b[0m\u001b[0mreraise\u001b[0m\u001b[0;34m(\u001b[0m\u001b[0mtype\u001b[0m\u001b[0;34m(\u001b[0m\u001b[0merror\u001b[0m\u001b[0;34m)\u001b[0m\u001b[0;34m,\u001b[0m \u001b[0merror\u001b[0m\u001b[0;34m,\u001b[0m \u001b[0m_stacktrace\u001b[0m\u001b[0;34m)\u001b[0m\u001b[0;34m\u001b[0m\u001b[0m\n\u001b[0m\u001b[1;32m    335\u001b[0m             \u001b[0;32melif\u001b[0m \u001b[0mread\u001b[0m \u001b[0;32mis\u001b[0m \u001b[0;32mnot\u001b[0m \u001b[0;32mNone\u001b[0m\u001b[0;34m:\u001b[0m\u001b[0;34m\u001b[0m\u001b[0m\n",
      "\u001b[0;32m//anaconda/lib/python3.5/site-packages/requests/packages/urllib3/packages/six.py\u001b[0m in \u001b[0;36mreraise\u001b[0;34m(tp, value, tb)\u001b[0m\n\u001b[1;32m    685\u001b[0m             \u001b[0;32mraise\u001b[0m \u001b[0mvalue\u001b[0m\u001b[0;34m.\u001b[0m\u001b[0mwith_traceback\u001b[0m\u001b[0;34m(\u001b[0m\u001b[0mtb\u001b[0m\u001b[0;34m)\u001b[0m\u001b[0;34m\u001b[0m\u001b[0m\n\u001b[0;32m--> 686\u001b[0;31m         \u001b[0;32mraise\u001b[0m \u001b[0mvalue\u001b[0m\u001b[0;34m\u001b[0m\u001b[0m\n\u001b[0m\u001b[1;32m    687\u001b[0m \u001b[0;34m\u001b[0m\u001b[0m\n",
      "\u001b[0;32m//anaconda/lib/python3.5/site-packages/requests/packages/urllib3/connectionpool.py\u001b[0m in \u001b[0;36murlopen\u001b[0;34m(self, method, url, body, headers, retries, redirect, assert_same_host, timeout, pool_timeout, release_conn, chunked, **response_kw)\u001b[0m\n\u001b[1;32m    593\u001b[0m                                                   \u001b[0mbody\u001b[0m\u001b[0;34m=\u001b[0m\u001b[0mbody\u001b[0m\u001b[0;34m,\u001b[0m \u001b[0mheaders\u001b[0m\u001b[0;34m=\u001b[0m\u001b[0mheaders\u001b[0m\u001b[0;34m,\u001b[0m\u001b[0;34m\u001b[0m\u001b[0m\n\u001b[0;32m--> 594\u001b[0;31m                                                   chunked=chunked)\n\u001b[0m\u001b[1;32m    595\u001b[0m \u001b[0;34m\u001b[0m\u001b[0m\n",
      "\u001b[0;32m//anaconda/lib/python3.5/site-packages/requests/packages/urllib3/connectionpool.py\u001b[0m in \u001b[0;36m_make_request\u001b[0;34m(self, conn, method, url, timeout, chunked, **httplib_request_kw)\u001b[0m\n\u001b[1;32m    392\u001b[0m         \u001b[0;32mexcept\u001b[0m \u001b[0;34m(\u001b[0m\u001b[0mSocketTimeout\u001b[0m\u001b[0;34m,\u001b[0m \u001b[0mBaseSSLError\u001b[0m\u001b[0;34m,\u001b[0m \u001b[0mSocketError\u001b[0m\u001b[0;34m)\u001b[0m \u001b[0;32mas\u001b[0m \u001b[0me\u001b[0m\u001b[0;34m:\u001b[0m\u001b[0;34m\u001b[0m\u001b[0m\n\u001b[0;32m--> 393\u001b[0;31m             \u001b[0mself\u001b[0m\u001b[0;34m.\u001b[0m\u001b[0m_raise_timeout\u001b[0m\u001b[0;34m(\u001b[0m\u001b[0merr\u001b[0m\u001b[0;34m=\u001b[0m\u001b[0me\u001b[0m\u001b[0;34m,\u001b[0m \u001b[0murl\u001b[0m\u001b[0;34m=\u001b[0m\u001b[0murl\u001b[0m\u001b[0;34m,\u001b[0m \u001b[0mtimeout_value\u001b[0m\u001b[0;34m=\u001b[0m\u001b[0mread_timeout\u001b[0m\u001b[0;34m)\u001b[0m\u001b[0;34m\u001b[0m\u001b[0m\n\u001b[0m\u001b[1;32m    394\u001b[0m             \u001b[0;32mraise\u001b[0m\u001b[0;34m\u001b[0m\u001b[0m\n",
      "\u001b[0;32m//anaconda/lib/python3.5/site-packages/requests/packages/urllib3/connectionpool.py\u001b[0m in \u001b[0;36m_raise_timeout\u001b[0;34m(self, err, url, timeout_value)\u001b[0m\n\u001b[1;32m    312\u001b[0m         \u001b[0;32mif\u001b[0m \u001b[0misinstance\u001b[0m\u001b[0;34m(\u001b[0m\u001b[0merr\u001b[0m\u001b[0;34m,\u001b[0m \u001b[0mSocketTimeout\u001b[0m\u001b[0;34m)\u001b[0m\u001b[0;34m:\u001b[0m\u001b[0;34m\u001b[0m\u001b[0m\n\u001b[0;32m--> 313\u001b[0;31m             \u001b[0;32mraise\u001b[0m \u001b[0mReadTimeoutError\u001b[0m\u001b[0;34m(\u001b[0m\u001b[0mself\u001b[0m\u001b[0;34m,\u001b[0m \u001b[0murl\u001b[0m\u001b[0;34m,\u001b[0m \u001b[0;34m\"Read timed out. (read timeout=%s)\"\u001b[0m \u001b[0;34m%\u001b[0m \u001b[0mtimeout_value\u001b[0m\u001b[0;34m)\u001b[0m\u001b[0;34m\u001b[0m\u001b[0m\n\u001b[0m\u001b[1;32m    314\u001b[0m \u001b[0;34m\u001b[0m\u001b[0m\n",
      "\u001b[0;31mReadTimeoutError\u001b[0m: HTTPSConnectionPool(host='datamine.cmegroup.com', port=443): Read timed out. (read timeout=60)",
      "\nDuring handling of the above exception, another exception occurred:\n",
      "\u001b[0;31mReadTimeout\u001b[0m                               Traceback (most recent call last)",
      "\u001b[0;32m<ipython-input-7-bfe4d91f1f5e>\u001b[0m in \u001b[0;36m<module>\u001b[0;34m()\u001b[0m\n\u001b[0;32m----> 1\u001b[0;31m \u001b[0mmyDatamine\u001b[0m\u001b[0;34m.\u001b[0m\u001b[0mget_catalog\u001b[0m\u001b[0;34m(\u001b[0m\u001b[0;34m)\u001b[0m\u001b[0;34m\u001b[0m\u001b[0m\n\u001b[0m",
      "\u001b[0;32m~/repos/datamine/datamine/datamine/io/datamine_io.py\u001b[0m in \u001b[0;36mget_catalog\u001b[0;34m(self, dataset, limit, start, refresh)\u001b[0m\n\u001b[1;32m    303\u001b[0m             \u001b[0;31m#print('paging Catalog: %s' % (self._datacatalogresp['paging']['next']))\u001b[0m\u001b[0;34m\u001b[0m\u001b[0;34m\u001b[0m\u001b[0m\n\u001b[1;32m    304\u001b[0m             \u001b[0mprint\u001b[0m\u001b[0;34m(\u001b[0m\u001b[0;34m'paging Catalog: %s'\u001b[0m \u001b[0;34m%\u001b[0m \u001b[0;34m(\u001b[0m\u001b[0mself\u001b[0m\u001b[0;34m.\u001b[0m\u001b[0m_datacatalogresp\u001b[0m\u001b[0;34m[\u001b[0m\u001b[0;34m'paging'\u001b[0m\u001b[0;34m]\u001b[0m\u001b[0;34m[\u001b[0m\u001b[0;34m'next'\u001b[0m\u001b[0;34m]\u001b[0m\u001b[0;34m.\u001b[0m\u001b[0msplit\u001b[0m\u001b[0;34m(\u001b[0m\u001b[0;34m'&'\u001b[0m\u001b[0;34m)\u001b[0m\u001b[0;34m[\u001b[0m\u001b[0;34m-\u001b[0m\u001b[0;36m1\u001b[0m\u001b[0;34m]\u001b[0m\u001b[0;34m)\u001b[0m\u001b[0;34m)\u001b[0m\u001b[0;34m\u001b[0m\u001b[0m\n\u001b[0;32m--> 305\u001b[0;31m             \u001b[0mself\u001b[0m\u001b[0;34m.\u001b[0m\u001b[0m_datacatalogresp\u001b[0m \u001b[0;34m=\u001b[0m \u001b[0mself\u001b[0m\u001b[0;34m.\u001b[0m\u001b[0m_do_call_json\u001b[0m\u001b[0;34m(\u001b[0m\u001b[0mself\u001b[0m\u001b[0;34m.\u001b[0m\u001b[0m_datacatalogresp\u001b[0m\u001b[0;34m[\u001b[0m\u001b[0;34m'paging'\u001b[0m\u001b[0;34m]\u001b[0m\u001b[0;34m[\u001b[0m\u001b[0;34m'next'\u001b[0m\u001b[0;34m]\u001b[0m\u001b[0;34m)\u001b[0m\u001b[0;34m\u001b[0m\u001b[0m\n\u001b[0m\u001b[1;32m    306\u001b[0m             \u001b[0;31m#print (self._datacatalogresp['files'])\u001b[0m\u001b[0;34m\u001b[0m\u001b[0;34m\u001b[0m\u001b[0m\n\u001b[1;32m    307\u001b[0m             \u001b[0;32mtry\u001b[0m\u001b[0;34m:\u001b[0m\u001b[0;34m\u001b[0m\u001b[0m\n",
      "\u001b[0;32m~/repos/datamine/datamine/datamine/io/datamine_io.py\u001b[0m in \u001b[0;36m_do_call_json\u001b[0;34m(self, url, retry)\u001b[0m\n\u001b[1;32m     98\u001b[0m             \u001b[0;32mif\u001b[0m \u001b[0mretry\u001b[0m\u001b[0;34m==\u001b[0m \u001b[0;32mFalse\u001b[0m\u001b[0;34m:\u001b[0m\u001b[0;34m\u001b[0m\u001b[0m\n\u001b[1;32m     99\u001b[0m                 resp = requests.get(url, timeout=60,\n\u001b[0;32m--> 100\u001b[0;31m                                     auth=HTTPBasicAuth(self.user, self.passwrd))\n\u001b[0m\u001b[1;32m    101\u001b[0m \u001b[0;34m\u001b[0m\u001b[0m\n\u001b[1;32m    102\u001b[0m             \u001b[0;32melse\u001b[0m\u001b[0;34m:\u001b[0m\u001b[0;34m\u001b[0m\u001b[0m\n",
      "\u001b[0;32m//anaconda/lib/python3.5/site-packages/requests/api.py\u001b[0m in \u001b[0;36mget\u001b[0;34m(url, params, **kwargs)\u001b[0m\n\u001b[1;32m     68\u001b[0m \u001b[0;34m\u001b[0m\u001b[0m\n\u001b[1;32m     69\u001b[0m     \u001b[0mkwargs\u001b[0m\u001b[0;34m.\u001b[0m\u001b[0msetdefault\u001b[0m\u001b[0;34m(\u001b[0m\u001b[0;34m'allow_redirects'\u001b[0m\u001b[0;34m,\u001b[0m \u001b[0;32mTrue\u001b[0m\u001b[0;34m)\u001b[0m\u001b[0;34m\u001b[0m\u001b[0m\n\u001b[0;32m---> 70\u001b[0;31m     \u001b[0;32mreturn\u001b[0m \u001b[0mrequest\u001b[0m\u001b[0;34m(\u001b[0m\u001b[0;34m'get'\u001b[0m\u001b[0;34m,\u001b[0m \u001b[0murl\u001b[0m\u001b[0;34m,\u001b[0m \u001b[0mparams\u001b[0m\u001b[0;34m=\u001b[0m\u001b[0mparams\u001b[0m\u001b[0;34m,\u001b[0m \u001b[0;34m**\u001b[0m\u001b[0mkwargs\u001b[0m\u001b[0;34m)\u001b[0m\u001b[0;34m\u001b[0m\u001b[0m\n\u001b[0m\u001b[1;32m     71\u001b[0m \u001b[0;34m\u001b[0m\u001b[0m\n\u001b[1;32m     72\u001b[0m \u001b[0;34m\u001b[0m\u001b[0m\n",
      "\u001b[0;32m//anaconda/lib/python3.5/site-packages/requests/api.py\u001b[0m in \u001b[0;36mrequest\u001b[0;34m(method, url, **kwargs)\u001b[0m\n\u001b[1;32m     54\u001b[0m     \u001b[0;31m# cases, and look like a memory leak in others.\u001b[0m\u001b[0;34m\u001b[0m\u001b[0;34m\u001b[0m\u001b[0m\n\u001b[1;32m     55\u001b[0m     \u001b[0;32mwith\u001b[0m \u001b[0msessions\u001b[0m\u001b[0;34m.\u001b[0m\u001b[0mSession\u001b[0m\u001b[0;34m(\u001b[0m\u001b[0;34m)\u001b[0m \u001b[0;32mas\u001b[0m \u001b[0msession\u001b[0m\u001b[0;34m:\u001b[0m\u001b[0;34m\u001b[0m\u001b[0m\n\u001b[0;32m---> 56\u001b[0;31m         \u001b[0;32mreturn\u001b[0m \u001b[0msession\u001b[0m\u001b[0;34m.\u001b[0m\u001b[0mrequest\u001b[0m\u001b[0;34m(\u001b[0m\u001b[0mmethod\u001b[0m\u001b[0;34m=\u001b[0m\u001b[0mmethod\u001b[0m\u001b[0;34m,\u001b[0m \u001b[0murl\u001b[0m\u001b[0;34m=\u001b[0m\u001b[0murl\u001b[0m\u001b[0;34m,\u001b[0m \u001b[0;34m**\u001b[0m\u001b[0mkwargs\u001b[0m\u001b[0;34m)\u001b[0m\u001b[0;34m\u001b[0m\u001b[0m\n\u001b[0m\u001b[1;32m     57\u001b[0m \u001b[0;34m\u001b[0m\u001b[0m\n\u001b[1;32m     58\u001b[0m \u001b[0;34m\u001b[0m\u001b[0m\n",
      "\u001b[0;32m//anaconda/lib/python3.5/site-packages/requests/sessions.py\u001b[0m in \u001b[0;36mrequest\u001b[0;34m(self, method, url, params, data, headers, cookies, files, auth, timeout, allow_redirects, proxies, hooks, stream, verify, cert, json)\u001b[0m\n\u001b[1;32m    486\u001b[0m         }\n\u001b[1;32m    487\u001b[0m         \u001b[0msend_kwargs\u001b[0m\u001b[0;34m.\u001b[0m\u001b[0mupdate\u001b[0m\u001b[0;34m(\u001b[0m\u001b[0msettings\u001b[0m\u001b[0;34m)\u001b[0m\u001b[0;34m\u001b[0m\u001b[0m\n\u001b[0;32m--> 488\u001b[0;31m         \u001b[0mresp\u001b[0m \u001b[0;34m=\u001b[0m \u001b[0mself\u001b[0m\u001b[0;34m.\u001b[0m\u001b[0msend\u001b[0m\u001b[0;34m(\u001b[0m\u001b[0mprep\u001b[0m\u001b[0;34m,\u001b[0m \u001b[0;34m**\u001b[0m\u001b[0msend_kwargs\u001b[0m\u001b[0;34m)\u001b[0m\u001b[0;34m\u001b[0m\u001b[0m\n\u001b[0m\u001b[1;32m    489\u001b[0m \u001b[0;34m\u001b[0m\u001b[0m\n\u001b[1;32m    490\u001b[0m         \u001b[0;32mreturn\u001b[0m \u001b[0mresp\u001b[0m\u001b[0;34m\u001b[0m\u001b[0m\n",
      "\u001b[0;32m//anaconda/lib/python3.5/site-packages/requests/sessions.py\u001b[0m in \u001b[0;36msend\u001b[0;34m(self, request, **kwargs)\u001b[0m\n\u001b[1;32m    607\u001b[0m \u001b[0;34m\u001b[0m\u001b[0m\n\u001b[1;32m    608\u001b[0m         \u001b[0;31m# Send the request\u001b[0m\u001b[0;34m\u001b[0m\u001b[0;34m\u001b[0m\u001b[0m\n\u001b[0;32m--> 609\u001b[0;31m         \u001b[0mr\u001b[0m \u001b[0;34m=\u001b[0m \u001b[0madapter\u001b[0m\u001b[0;34m.\u001b[0m\u001b[0msend\u001b[0m\u001b[0;34m(\u001b[0m\u001b[0mrequest\u001b[0m\u001b[0;34m,\u001b[0m \u001b[0;34m**\u001b[0m\u001b[0mkwargs\u001b[0m\u001b[0;34m)\u001b[0m\u001b[0;34m\u001b[0m\u001b[0m\n\u001b[0m\u001b[1;32m    610\u001b[0m \u001b[0;34m\u001b[0m\u001b[0m\n\u001b[1;32m    611\u001b[0m         \u001b[0;31m# Total elapsed time of the request (approximately)\u001b[0m\u001b[0;34m\u001b[0m\u001b[0;34m\u001b[0m\u001b[0m\n",
      "\u001b[0;32m//anaconda/lib/python3.5/site-packages/requests/adapters.py\u001b[0m in \u001b[0;36msend\u001b[0;34m(self, request, stream, timeout, verify, cert, proxies)\u001b[0m\n\u001b[1;32m    497\u001b[0m                 \u001b[0;32mraise\u001b[0m \u001b[0mSSLError\u001b[0m\u001b[0;34m(\u001b[0m\u001b[0me\u001b[0m\u001b[0;34m,\u001b[0m \u001b[0mrequest\u001b[0m\u001b[0;34m=\u001b[0m\u001b[0mrequest\u001b[0m\u001b[0;34m)\u001b[0m\u001b[0;34m\u001b[0m\u001b[0m\n\u001b[1;32m    498\u001b[0m             \u001b[0;32melif\u001b[0m \u001b[0misinstance\u001b[0m\u001b[0;34m(\u001b[0m\u001b[0me\u001b[0m\u001b[0;34m,\u001b[0m \u001b[0mReadTimeoutError\u001b[0m\u001b[0;34m)\u001b[0m\u001b[0;34m:\u001b[0m\u001b[0;34m\u001b[0m\u001b[0m\n\u001b[0;32m--> 499\u001b[0;31m                 \u001b[0;32mraise\u001b[0m \u001b[0mReadTimeout\u001b[0m\u001b[0;34m(\u001b[0m\u001b[0me\u001b[0m\u001b[0;34m,\u001b[0m \u001b[0mrequest\u001b[0m\u001b[0;34m=\u001b[0m\u001b[0mrequest\u001b[0m\u001b[0;34m)\u001b[0m\u001b[0;34m\u001b[0m\u001b[0m\n\u001b[0m\u001b[1;32m    500\u001b[0m             \u001b[0;32melse\u001b[0m\u001b[0;34m:\u001b[0m\u001b[0;34m\u001b[0m\u001b[0m\n\u001b[1;32m    501\u001b[0m                 \u001b[0;32mraise\u001b[0m\u001b[0;34m\u001b[0m\u001b[0m\n",
      "\u001b[0;31mReadTimeout\u001b[0m: HTTPSConnectionPool(host='datamine.cmegroup.com', port=443): Read timed out. (read timeout=60)"
     ]
    }
   ],
   "source": [
    "myDatamine.get_catalog()"
   ]
  },
  {
   "cell_type": "code",
   "execution_count": 4,
   "metadata": {},
   "outputs": [
    {
     "data": {
      "text/plain": [
       "('20180720-CRYPTOCURRENCY',\n",
       " {'checksum': 'f933ec9e82c5ac172c73c12b81007f15',\n",
       "  'dataset': 'CRYPTOCURRENCY',\n",
       "  'exchangecode': '*',\n",
       "  'expiration': '2018-08-19',\n",
       "  'fid': '20180720-CRYPTOCURRENCY',\n",
       "  'orderid': '6792',\n",
       "  's3url': 'cmegroup-main-us-east-1-datamine-prod/bitcoin/20180720/20180720_btcIndexJson.gz',\n",
       "  'size': 3768142,\n",
       "  'url': 'https://datamine.cmegroup.com/cme/api/v1/download?fid=20180720-CRYPTOCURRENCY',\n",
       "  'yyyymmdd': '20180720'})"
      ]
     },
     "execution_count": 4,
     "metadata": {},
     "output_type": "execute_result"
    }
   ],
   "source": [
    "# Review one of the data catalog items as supplied in dict format.  \n",
    "myDatamine.data_catalog.popitem()"
   ]
  },
  {
   "cell_type": "code",
   "execution_count": 5,
   "metadata": {},
   "outputs": [
    {
     "data": {
      "text/html": [
       "<div>\n",
       "<style scoped>\n",
       "    .dataframe tbody tr th:only-of-type {\n",
       "        vertical-align: middle;\n",
       "    }\n",
       "\n",
       "    .dataframe tbody tr th {\n",
       "        vertical-align: top;\n",
       "    }\n",
       "\n",
       "    .dataframe thead th {\n",
       "        text-align: right;\n",
       "    }\n",
       "</style>\n",
       "<table border=\"1\" class=\"dataframe\">\n",
       "  <thead>\n",
       "    <tr style=\"text-align: right;\">\n",
       "      <th></th>\n",
       "      <th>checksum</th>\n",
       "      <th>dataset</th>\n",
       "      <th>exchangecode</th>\n",
       "      <th>expiration</th>\n",
       "      <th>fid</th>\n",
       "      <th>orderid</th>\n",
       "      <th>s3url</th>\n",
       "      <th>size</th>\n",
       "      <th>url</th>\n",
       "      <th>yyyymmdd</th>\n",
       "    </tr>\n",
       "  </thead>\n",
       "  <tbody>\n",
       "    <tr>\n",
       "      <th>20180610-CRYPTOCURRENCY</th>\n",
       "      <td>954e0f8ac519c7cef4a6277c5b062ca4</td>\n",
       "      <td>CRYPTOCURRENCY</td>\n",
       "      <td>*</td>\n",
       "      <td>2018-07-10</td>\n",
       "      <td>20180610-CRYPTOCURRENCY</td>\n",
       "      <td>6792</td>\n",
       "      <td>cmegroup-main-us-east-1-datamine-prod/bitcoin/...</td>\n",
       "      <td>3735918</td>\n",
       "      <td>https://datamine.cmegroup.com/cme/api/v1/downl...</td>\n",
       "      <td>20180610</td>\n",
       "    </tr>\n",
       "    <tr>\n",
       "      <th>20180611-CRYPTOCURRENCY</th>\n",
       "      <td>eed2dd4e8cbcc8ae6a5e3cfeef695330</td>\n",
       "      <td>CRYPTOCURRENCY</td>\n",
       "      <td>*</td>\n",
       "      <td>2018-07-11</td>\n",
       "      <td>20180611-CRYPTOCURRENCY</td>\n",
       "      <td>6792</td>\n",
       "      <td>cmegroup-main-us-east-1-datamine-prod/bitcoin/...</td>\n",
       "      <td>3633344</td>\n",
       "      <td>https://datamine.cmegroup.com/cme/api/v1/downl...</td>\n",
       "      <td>20180611</td>\n",
       "    </tr>\n",
       "    <tr>\n",
       "      <th>20180612-CRYPTOCURRENCY</th>\n",
       "      <td>220bea989e7216831141e136e06726a8</td>\n",
       "      <td>CRYPTOCURRENCY</td>\n",
       "      <td>*</td>\n",
       "      <td>2018-07-12</td>\n",
       "      <td>20180612-CRYPTOCURRENCY</td>\n",
       "      <td>6792</td>\n",
       "      <td>cmegroup-main-us-east-1-datamine-prod/bitcoin/...</td>\n",
       "      <td>3763430</td>\n",
       "      <td>https://datamine.cmegroup.com/cme/api/v1/downl...</td>\n",
       "      <td>20180612</td>\n",
       "    </tr>\n",
       "    <tr>\n",
       "      <th>20180614-CRYPTOCURRENCY</th>\n",
       "      <td>f3290dc1c9a4c5300c82c4b0b6b0249f</td>\n",
       "      <td>CRYPTOCURRENCY</td>\n",
       "      <td>*</td>\n",
       "      <td>2018-07-14</td>\n",
       "      <td>20180614-CRYPTOCURRENCY</td>\n",
       "      <td>6792</td>\n",
       "      <td>cmegroup-main-us-east-1-datamine-prod/bitcoin/...</td>\n",
       "      <td>3761717</td>\n",
       "      <td>https://datamine.cmegroup.com/cme/api/v1/downl...</td>\n",
       "      <td>20180614</td>\n",
       "    </tr>\n",
       "    <tr>\n",
       "      <th>20180615-CRYPTOCURRENCY</th>\n",
       "      <td>633d1ccd861dc97aaca8629b04018880</td>\n",
       "      <td>CRYPTOCURRENCY</td>\n",
       "      <td>*</td>\n",
       "      <td>2018-07-15</td>\n",
       "      <td>20180615-CRYPTOCURRENCY</td>\n",
       "      <td>6792</td>\n",
       "      <td>cmegroup-main-us-east-1-datamine-prod/bitcoin/...</td>\n",
       "      <td>3756231</td>\n",
       "      <td>https://datamine.cmegroup.com/cme/api/v1/downl...</td>\n",
       "      <td>20180615</td>\n",
       "    </tr>\n",
       "  </tbody>\n",
       "</table>\n",
       "</div>"
      ],
      "text/plain": [
       "                                                 checksum         dataset  \\\n",
       "20180610-CRYPTOCURRENCY  954e0f8ac519c7cef4a6277c5b062ca4  CRYPTOCURRENCY   \n",
       "20180611-CRYPTOCURRENCY  eed2dd4e8cbcc8ae6a5e3cfeef695330  CRYPTOCURRENCY   \n",
       "20180612-CRYPTOCURRENCY  220bea989e7216831141e136e06726a8  CRYPTOCURRENCY   \n",
       "20180614-CRYPTOCURRENCY  f3290dc1c9a4c5300c82c4b0b6b0249f  CRYPTOCURRENCY   \n",
       "20180615-CRYPTOCURRENCY  633d1ccd861dc97aaca8629b04018880  CRYPTOCURRENCY   \n",
       "\n",
       "                        exchangecode  expiration                      fid  \\\n",
       "20180610-CRYPTOCURRENCY            *  2018-07-10  20180610-CRYPTOCURRENCY   \n",
       "20180611-CRYPTOCURRENCY            *  2018-07-11  20180611-CRYPTOCURRENCY   \n",
       "20180612-CRYPTOCURRENCY            *  2018-07-12  20180612-CRYPTOCURRENCY   \n",
       "20180614-CRYPTOCURRENCY            *  2018-07-14  20180614-CRYPTOCURRENCY   \n",
       "20180615-CRYPTOCURRENCY            *  2018-07-15  20180615-CRYPTOCURRENCY   \n",
       "\n",
       "                        orderid  \\\n",
       "20180610-CRYPTOCURRENCY    6792   \n",
       "20180611-CRYPTOCURRENCY    6792   \n",
       "20180612-CRYPTOCURRENCY    6792   \n",
       "20180614-CRYPTOCURRENCY    6792   \n",
       "20180615-CRYPTOCURRENCY    6792   \n",
       "\n",
       "                                                                     s3url  \\\n",
       "20180610-CRYPTOCURRENCY  cmegroup-main-us-east-1-datamine-prod/bitcoin/...   \n",
       "20180611-CRYPTOCURRENCY  cmegroup-main-us-east-1-datamine-prod/bitcoin/...   \n",
       "20180612-CRYPTOCURRENCY  cmegroup-main-us-east-1-datamine-prod/bitcoin/...   \n",
       "20180614-CRYPTOCURRENCY  cmegroup-main-us-east-1-datamine-prod/bitcoin/...   \n",
       "20180615-CRYPTOCURRENCY  cmegroup-main-us-east-1-datamine-prod/bitcoin/...   \n",
       "\n",
       "                            size  \\\n",
       "20180610-CRYPTOCURRENCY  3735918   \n",
       "20180611-CRYPTOCURRENCY  3633344   \n",
       "20180612-CRYPTOCURRENCY  3763430   \n",
       "20180614-CRYPTOCURRENCY  3761717   \n",
       "20180615-CRYPTOCURRENCY  3756231   \n",
       "\n",
       "                                                                       url  \\\n",
       "20180610-CRYPTOCURRENCY  https://datamine.cmegroup.com/cme/api/v1/downl...   \n",
       "20180611-CRYPTOCURRENCY  https://datamine.cmegroup.com/cme/api/v1/downl...   \n",
       "20180612-CRYPTOCURRENCY  https://datamine.cmegroup.com/cme/api/v1/downl...   \n",
       "20180614-CRYPTOCURRENCY  https://datamine.cmegroup.com/cme/api/v1/downl...   \n",
       "20180615-CRYPTOCURRENCY  https://datamine.cmegroup.com/cme/api/v1/downl...   \n",
       "\n",
       "                         yyyymmdd  \n",
       "20180610-CRYPTOCURRENCY  20180610  \n",
       "20180611-CRYPTOCURRENCY  20180611  \n",
       "20180612-CRYPTOCURRENCY  20180612  \n",
       "20180614-CRYPTOCURRENCY  20180614  \n",
       "20180615-CRYPTOCURRENCY  20180615  "
      ]
     },
     "execution_count": 5,
     "metadata": {},
     "output_type": "execute_result"
    }
   ],
   "source": [
    "# We can view the data catalog easier in a Pandas Dataframe\n",
    "dataCatalogDF = pd.DataFrame.from_dict(myDatamine.data_catalog,).T\n",
    "dataCatalogDF.head()"
   ]
  },
  {
   "cell_type": "code",
   "execution_count": 6,
   "metadata": {},
   "outputs": [
    {
     "data": {
      "text/plain": [
       "CRYPTOCURRENCY    29\n",
       "Name: dataset, dtype: int64"
      ]
     },
     "execution_count": 6,
     "metadata": {},
     "output_type": "execute_result"
    }
   ],
   "source": [
    "# We can see how many data products we can access\n",
    "dataCatalogDF.dataset.value_counts()"
   ]
  },
  {
   "cell_type": "markdown",
   "metadata": {},
   "source": [
    "## Using The Data \n",
    "\n",
    "The following will show you example of how the Datamine python module can be used to copy down the data from the cloud to your local computer.  \n",
    "\n",
    "This routine will download the data to the /data/* folder for each specific data set.  This routine copies everything down and overwrites anything locally.  This routine will take time depending upon the amount of data on the cloud that your trying to pull down.  The pulls are multithreaded to speed them up; you can adjust this by adjusting the processes in the MyDatamine object.\n",
    "\n",
    "```myDatamine.processes = 4```"
   ]
  },
  {
   "cell_type": "markdown",
   "metadata": {},
   "source": [
    "### Bitcoin & Crypto Currencies"
   ]
  },
  {
   "cell_type": "code",
   "execution_count": 7,
   "metadata": {},
   "outputs": [
    {
     "name": "stderr",
     "output_type": "stream",
     "text": [
      "100%|██████████| 7/7 [00:16<00:00,  2.47s/it]\n"
     ]
    },
    {
     "data": {
      "text/plain": [
       "0"
      ]
     },
     "execution_count": 7,
     "metadata": {},
     "output_type": "execute_result"
    }
   ],
   "source": [
    "# Load the bitcoin data from datamine cloud and structure into dataframe of myDatamine.bitcoin_DF.  \n",
    "# Will return 0 if successful\n",
    "myDatamine.crypto_load(False)"
   ]
  },
  {
   "cell_type": "code",
   "execution_count": 8,
   "metadata": {},
   "outputs": [
    {
     "data": {
      "text/html": [
       "<div>\n",
       "<style scoped>\n",
       "    .dataframe tbody tr th:only-of-type {\n",
       "        vertical-align: middle;\n",
       "    }\n",
       "\n",
       "    .dataframe tbody tr th {\n",
       "        vertical-align: top;\n",
       "    }\n",
       "\n",
       "    .dataframe thead th {\n",
       "        text-align: right;\n",
       "    }\n",
       "</style>\n",
       "<table border=\"1\" class=\"dataframe\">\n",
       "  <thead>\n",
       "    <tr style=\"text-align: right;\">\n",
       "      <th></th>\n",
       "      <th>mdEntryCode</th>\n",
       "      <th>mdEntryPx</th>\n",
       "      <th>mdEntryType</th>\n",
       "      <th>mdUpdateAction</th>\n",
       "      <th>netChgPrevDay</th>\n",
       "      <th>netPctChg</th>\n",
       "      <th>openCloseSettlFlag</th>\n",
       "      <th>rptSeq</th>\n",
       "      <th>symbol</th>\n",
       "    </tr>\n",
       "    <tr>\n",
       "      <th>mdEntryDateTime</th>\n",
       "      <th></th>\n",
       "      <th></th>\n",
       "      <th></th>\n",
       "      <th></th>\n",
       "      <th></th>\n",
       "      <th></th>\n",
       "      <th></th>\n",
       "      <th></th>\n",
       "      <th></th>\n",
       "    </tr>\n",
       "  </thead>\n",
       "  <tbody>\n",
       "    <tr>\n",
       "      <th>2018-07-04 00:00:00+00:00</th>\n",
       "      <td>NaN</td>\n",
       "      <td>461.87</td>\n",
       "      <td>INDEX_VALUE</td>\n",
       "      <td>NEW</td>\n",
       "      <td>NaN</td>\n",
       "      <td>NaN</td>\n",
       "      <td>NaN</td>\n",
       "      <td>6058806</td>\n",
       "      <td>ETH_RTI_USD</td>\n",
       "    </tr>\n",
       "    <tr>\n",
       "      <th>2018-07-04 00:00:00+00:00</th>\n",
       "      <td>NaN</td>\n",
       "      <td>6504.50</td>\n",
       "      <td>INDEX_VALUE</td>\n",
       "      <td>NEW</td>\n",
       "      <td>NaN</td>\n",
       "      <td>NaN</td>\n",
       "      <td>NaN</td>\n",
       "      <td>55363484</td>\n",
       "      <td>BRTI</td>\n",
       "    </tr>\n",
       "    <tr>\n",
       "      <th>2018-07-04 00:00:01+00:00</th>\n",
       "      <td>NaN</td>\n",
       "      <td>461.84</td>\n",
       "      <td>INDEX_VALUE</td>\n",
       "      <td>NEW</td>\n",
       "      <td>NaN</td>\n",
       "      <td>NaN</td>\n",
       "      <td>NaN</td>\n",
       "      <td>6058807</td>\n",
       "      <td>ETH_RTI_USD</td>\n",
       "    </tr>\n",
       "    <tr>\n",
       "      <th>2018-07-04 00:00:01+00:00</th>\n",
       "      <td>NaN</td>\n",
       "      <td>6505.17</td>\n",
       "      <td>INDEX_VALUE</td>\n",
       "      <td>NEW</td>\n",
       "      <td>NaN</td>\n",
       "      <td>NaN</td>\n",
       "      <td>NaN</td>\n",
       "      <td>55363485</td>\n",
       "      <td>BRTI</td>\n",
       "    </tr>\n",
       "    <tr>\n",
       "      <th>2018-07-04 00:00:02+00:00</th>\n",
       "      <td>NaN</td>\n",
       "      <td>461.84</td>\n",
       "      <td>INDEX_VALUE</td>\n",
       "      <td>NEW</td>\n",
       "      <td>NaN</td>\n",
       "      <td>NaN</td>\n",
       "      <td>NaN</td>\n",
       "      <td>6058808</td>\n",
       "      <td>ETH_RTI_USD</td>\n",
       "    </tr>\n",
       "  </tbody>\n",
       "</table>\n",
       "</div>"
      ],
      "text/plain": [
       "                          mdEntryCode  mdEntryPx  mdEntryType mdUpdateAction  \\\n",
       "mdEntryDateTime                                                                \n",
       "2018-07-04 00:00:00+00:00         NaN     461.87  INDEX_VALUE            NEW   \n",
       "2018-07-04 00:00:00+00:00         NaN    6504.50  INDEX_VALUE            NEW   \n",
       "2018-07-04 00:00:01+00:00         NaN     461.84  INDEX_VALUE            NEW   \n",
       "2018-07-04 00:00:01+00:00         NaN    6505.17  INDEX_VALUE            NEW   \n",
       "2018-07-04 00:00:02+00:00         NaN     461.84  INDEX_VALUE            NEW   \n",
       "\n",
       "                           netChgPrevDay  netPctChg openCloseSettlFlag  \\\n",
       "mdEntryDateTime                                                          \n",
       "2018-07-04 00:00:00+00:00            NaN        NaN                NaN   \n",
       "2018-07-04 00:00:00+00:00            NaN        NaN                NaN   \n",
       "2018-07-04 00:00:01+00:00            NaN        NaN                NaN   \n",
       "2018-07-04 00:00:01+00:00            NaN        NaN                NaN   \n",
       "2018-07-04 00:00:02+00:00            NaN        NaN                NaN   \n",
       "\n",
       "                             rptSeq       symbol  \n",
       "mdEntryDateTime                                   \n",
       "2018-07-04 00:00:00+00:00   6058806  ETH_RTI_USD  \n",
       "2018-07-04 00:00:00+00:00  55363484         BRTI  \n",
       "2018-07-04 00:00:01+00:00   6058807  ETH_RTI_USD  \n",
       "2018-07-04 00:00:01+00:00  55363485         BRTI  \n",
       "2018-07-04 00:00:02+00:00   6058808  ETH_RTI_USD  "
      ]
     },
     "execution_count": 8,
     "metadata": {},
     "output_type": "execute_result"
    }
   ],
   "source": [
    "#look at the data frame\n",
    "myDatamine.crypto_DF.head()"
   ]
  },
  {
   "cell_type": "code",
   "execution_count": 9,
   "metadata": {},
   "outputs": [
    {
     "data": {
      "text/plain": [
       "ETH_RTI_USD    509960\n",
       "BRTI           509960\n",
       "ETH_RR_USD          6\n",
       "BRR                 6\n",
       "Name: symbol, dtype: int64"
      ]
     },
     "execution_count": 9,
     "metadata": {},
     "output_type": "execute_result"
    }
   ],
   "source": [
    "#There are many values in the file; one that is every second as 'BRTI and one that is daily as 'BRR'\n",
    "myDatamine.crypto_DF.symbol.value_counts()"
   ]
  },
  {
   "cell_type": "markdown",
   "metadata": {},
   "source": [
    "### Bitcoin Index Rate"
   ]
  },
  {
   "cell_type": "code",
   "execution_count": 10,
   "metadata": {},
   "outputs": [
    {
     "data": {
      "image/png": "[encoded data removed]",
      "text/plain": [
       "<matplotlib.figure.Figure at 0x115c7db00>"
      ]
     },
     "metadata": {},
     "output_type": "display_data"
    }
   ],
   "source": [
    "indexValue = myDatamine.crypto_DF.loc[myDatamine.crypto_DF['symbol'] =='BRTI','mdEntryPx'].plot(figsize=[15,5]);\n",
    "plt.title('Historical Bitcoin Intraday Reference Rate')\n",
    "plt.xlabel('Date')\n",
    "plt.ylabel('USD/BTC')\n",
    "plt.style.use('fivethirtyeight')\n",
    "plt.show()"
   ]
  },
  {
   "cell_type": "markdown",
   "metadata": {},
   "source": [
    "## Bitcoin End of Day Value\n",
    "\n",
    "\n"
   ]
  },
  {
   "cell_type": "code",
   "execution_count": 11,
   "metadata": {},
   "outputs": [
    {
     "data": {
      "image/png": "[encoded data removed]",
      "text/plain": [
       "<matplotlib.figure.Figure at 0x14e6420b8>"
      ]
     },
     "metadata": {},
     "output_type": "display_data"
    }
   ],
   "source": [
    "myDatamine.crypto_DF.loc[myDatamine.crypto_DF['symbol'] =='BRR','mdEntryPx'].plot(figsize=[15,5])\n",
    "plt.title('Historical Bitcoin Daily Value')\n",
    "plt.xlabel('Date')\n",
    "plt.ylabel('$/btc')\n",
    "plt.style.use('fivethirtyeight')\n",
    "plt.show()"
   ]
  },
  {
   "cell_type": "markdown",
   "metadata": {},
   "source": [
    "## Tick Data / Time and Sales\n",
    "\n",
    "Tick data is considered Time and Sales.  This is data that represents the time that a specific product was traded between two parties at a given price.  The following will download the data local and load it into a Pandas DataFrame for analysis."
   ]
  },
  {
   "cell_type": "code",
   "execution_count": 3,
   "metadata": {},
   "outputs": [
    {
     "data": {
      "text/plain": [
       "0"
      ]
     },
     "execution_count": 3,
     "metadata": {},
     "output_type": "execute_result"
    }
   ],
   "source": [
    "#update my catalog with Tick Data\n",
    "myDatamine.get_catalog(dataset='TICK', limit=1000, refresh=True)"
   ]
  },
  {
   "cell_type": "code",
   "execution_count": null,
   "metadata": {},
   "outputs": [],
   "source": [
    "#download and load my data\n",
    "#Tick Data can be a lot of files and can take time to load into a Pandas Dataframe...\n",
    "myDatamine.time_sales_load(False)"
   ]
  },
  {
   "cell_type": "code",
   "execution_count": 14,
   "metadata": {},
   "outputs": [
    {
     "data": {
      "text/html": [
       "<div>\n",
       "<style scoped>\n",
       "    .dataframe tbody tr th:only-of-type {\n",
       "        vertical-align: middle;\n",
       "    }\n",
       "\n",
       "    .dataframe tbody tr th {\n",
       "        vertical-align: top;\n",
       "    }\n",
       "\n",
       "    .dataframe thead th {\n",
       "        text-align: right;\n",
       "    }\n",
       "</style>\n",
       "<table border=\"1\" class=\"dataframe\">\n",
       "  <thead>\n",
       "    <tr style=\"text-align: right;\">\n",
       "      <th></th>\n",
       "      <th>trade_date</th>\n",
       "      <th>trade_time</th>\n",
       "      <th>trade_sequence_number</th>\n",
       "      <th>session_indicator</th>\n",
       "      <th>ticker_symbol</th>\n",
       "      <th>future_option_index_indicator</th>\n",
       "      <th>contract_delivery_date</th>\n",
       "      <th>trade_quantity</th>\n",
       "      <th>strike_price</th>\n",
       "      <th>trade_price</th>\n",
       "      <th>...</th>\n",
       "      <th>valid_open_exception</th>\n",
       "      <th>post_close</th>\n",
       "      <th>cancel_code_type</th>\n",
       "      <th>insert_code_type</th>\n",
       "      <th>fast_late_indicator</th>\n",
       "      <th>cabinet_indicator</th>\n",
       "      <th>book_indicator</th>\n",
       "      <th>entry_date</th>\n",
       "      <th>exchange_code</th>\n",
       "      <th>trade_date_time</th>\n",
       "    </tr>\n",
       "  </thead>\n",
       "  <tbody>\n",
       "    <tr>\n",
       "      <th>0</th>\n",
       "      <td>2018-07-04</td>\n",
       "      <td>17:00:00</td>\n",
       "      <td>892455</td>\n",
       "      <td>E</td>\n",
       "      <td>BTC</td>\n",
       "      <td>F</td>\n",
       "      <td>1807</td>\n",
       "      <td>1</td>\n",
       "      <td>0.0</td>\n",
       "      <td>6595.0</td>\n",
       "      <td>...</td>\n",
       "      <td></td>\n",
       "      <td></td>\n",
       "      <td></td>\n",
       "      <td></td>\n",
       "      <td></td>\n",
       "      <td></td>\n",
       "      <td></td>\n",
       "      <td>20180703</td>\n",
       "      <td>XCME</td>\n",
       "      <td>2018-07-04 17:00:00+00:00</td>\n",
       "    </tr>\n",
       "    <tr>\n",
       "      <th>1</th>\n",
       "      <td>2018-07-04</td>\n",
       "      <td>17:00:00</td>\n",
       "      <td>892462</td>\n",
       "      <td>E</td>\n",
       "      <td>BTC</td>\n",
       "      <td>F</td>\n",
       "      <td>1807</td>\n",
       "      <td>0</td>\n",
       "      <td>0.0</td>\n",
       "      <td>6595.0</td>\n",
       "      <td>...</td>\n",
       "      <td></td>\n",
       "      <td></td>\n",
       "      <td></td>\n",
       "      <td></td>\n",
       "      <td></td>\n",
       "      <td></td>\n",
       "      <td></td>\n",
       "      <td>20180703</td>\n",
       "      <td>XCME</td>\n",
       "      <td>2018-07-04 17:00:00+00:00</td>\n",
       "    </tr>\n",
       "    <tr>\n",
       "      <th>2</th>\n",
       "      <td>2018-07-04</td>\n",
       "      <td>17:00:00</td>\n",
       "      <td>892463</td>\n",
       "      <td>E</td>\n",
       "      <td>BTC</td>\n",
       "      <td>F</td>\n",
       "      <td>1807</td>\n",
       "      <td>1</td>\n",
       "      <td>0.0</td>\n",
       "      <td>6600.0</td>\n",
       "      <td>...</td>\n",
       "      <td></td>\n",
       "      <td></td>\n",
       "      <td></td>\n",
       "      <td></td>\n",
       "      <td></td>\n",
       "      <td></td>\n",
       "      <td></td>\n",
       "      <td>20180703</td>\n",
       "      <td>XCME</td>\n",
       "      <td>2018-07-04 17:00:00+00:00</td>\n",
       "    </tr>\n",
       "    <tr>\n",
       "      <th>3</th>\n",
       "      <td>2018-07-04</td>\n",
       "      <td>17:00:07</td>\n",
       "      <td>892608</td>\n",
       "      <td>E</td>\n",
       "      <td>BTC</td>\n",
       "      <td>F</td>\n",
       "      <td>1807</td>\n",
       "      <td>1</td>\n",
       "      <td>0.0</td>\n",
       "      <td>6605.0</td>\n",
       "      <td>...</td>\n",
       "      <td></td>\n",
       "      <td></td>\n",
       "      <td></td>\n",
       "      <td></td>\n",
       "      <td></td>\n",
       "      <td></td>\n",
       "      <td></td>\n",
       "      <td>20180703</td>\n",
       "      <td>XCME</td>\n",
       "      <td>2018-07-04 17:00:07+00:00</td>\n",
       "    </tr>\n",
       "    <tr>\n",
       "      <th>4</th>\n",
       "      <td>2018-07-04</td>\n",
       "      <td>17:00:10</td>\n",
       "      <td>892628</td>\n",
       "      <td>E</td>\n",
       "      <td>BTC</td>\n",
       "      <td>F</td>\n",
       "      <td>1807</td>\n",
       "      <td>1</td>\n",
       "      <td>0.0</td>\n",
       "      <td>6605.0</td>\n",
       "      <td>...</td>\n",
       "      <td></td>\n",
       "      <td></td>\n",
       "      <td></td>\n",
       "      <td></td>\n",
       "      <td></td>\n",
       "      <td></td>\n",
       "      <td></td>\n",
       "      <td>20180703</td>\n",
       "      <td>XCME</td>\n",
       "      <td>2018-07-04 17:00:10+00:00</td>\n",
       "    </tr>\n",
       "  </tbody>\n",
       "</table>\n",
       "<p>5 rows × 24 columns</p>\n",
       "</div>"
      ],
      "text/plain": [
       "  trade_date trade_time  trade_sequence_number session_indicator  \\\n",
       "0 2018-07-04   17:00:00                 892455                 E   \n",
       "1 2018-07-04   17:00:00                 892462                 E   \n",
       "2 2018-07-04   17:00:00                 892463                 E   \n",
       "3 2018-07-04   17:00:07                 892608                 E   \n",
       "4 2018-07-04   17:00:10                 892628                 E   \n",
       "\n",
       "  ticker_symbol future_option_index_indicator  contract_delivery_date  \\\n",
       "0           BTC                             F                    1807   \n",
       "1           BTC                             F                    1807   \n",
       "2           BTC                             F                    1807   \n",
       "3           BTC                             F                    1807   \n",
       "4           BTC                             F                    1807   \n",
       "\n",
       "   trade_quantity  strike_price  trade_price            ...             \\\n",
       "0               1           0.0       6595.0            ...              \n",
       "1               0           0.0       6595.0            ...              \n",
       "2               1           0.0       6600.0            ...              \n",
       "3               1           0.0       6605.0            ...              \n",
       "4               1           0.0       6605.0            ...              \n",
       "\n",
       "  valid_open_exception post_close cancel_code_type insert_code_type  \\\n",
       "0                                                                     \n",
       "1                                                                     \n",
       "2                                                                     \n",
       "3                                                                     \n",
       "4                                                                     \n",
       "\n",
       "  fast_late_indicator cabinet_indicator book_indicator entry_date  \\\n",
       "0                                                        20180703   \n",
       "1                                                        20180703   \n",
       "2                                                        20180703   \n",
       "3                                                        20180703   \n",
       "4                                                        20180703   \n",
       "\n",
       "  exchange_code           trade_date_time  \n",
       "0          XCME 2018-07-04 17:00:00+00:00  \n",
       "1          XCME 2018-07-04 17:00:00+00:00  \n",
       "2          XCME 2018-07-04 17:00:00+00:00  \n",
       "3          XCME 2018-07-04 17:00:07+00:00  \n",
       "4          XCME 2018-07-04 17:00:10+00:00  \n",
       "\n",
       "[5 rows x 24 columns]"
      ]
     },
     "execution_count": 14,
     "metadata": {},
     "output_type": "execute_result"
    }
   ],
   "source": [
    "ts = myDatamine.time_sales_DF\n",
    "ts.head()"
   ]
  },
  {
   "cell_type": "code",
   "execution_count": 15,
   "metadata": {},
   "outputs": [
    {
     "data": {
      "text/plain": [
       "CL     557257\n",
       "ED      69348\n",
       "BTC      7844\n",
       "Name: ticker_symbol, dtype: int64"
      ]
     },
     "execution_count": 15,
     "metadata": {},
     "output_type": "execute_result"
    }
   ],
   "source": [
    "#Review the Symbols we have loaded.\n",
    "ts.ticker_symbol.value_counts()"
   ]
  },
  {
   "cell_type": "code",
   "execution_count": 16,
   "metadata": {},
   "outputs": [
    {
     "data": {
      "image/png": "[encoded data removed]",
      "text/plain": [
       "<matplotlib.figure.Figure at 0x12e8a1048>"
      ]
     },
     "metadata": {},
     "output_type": "display_data"
    }
   ],
   "source": [
    "#Plot Histogram of lot size of a given trade for Crude Oil\n",
    "ts.loc[ts.ticker_symbol =='CL','trade_quantity'].hist(bins=20).set_yscale('log')"
   ]
  },
  {
   "cell_type": "markdown",
   "metadata": {},
   "source": [
    "## Orbital Insights\n",
    "\n"
   ]
  },
  {
   "cell_type": "code",
   "execution_count": 3,
   "metadata": {},
   "outputs": [
    {
     "data": {
      "text/plain": [
       "0"
      ]
     },
     "execution_count": 3,
     "metadata": {},
     "output_type": "execute_result"
    }
   ],
   "source": [
    "#Get some Orbital Insights Data\n",
    "myDatamine.get_catalog(dataset='ORBITALINSIGHT', limit=1000, refresh=True)\n"
   ]
  },
  {
   "cell_type": "code",
   "execution_count": 5,
   "metadata": {},
   "outputs": [
    {
     "name": "stderr",
     "output_type": "stream",
     "text": [
      "100%|██████████| 103/103 [01:53<00:00,  1.72s/it]\n"
     ]
    },
    {
     "data": {
      "text/plain": [
       "0"
      ]
     },
     "execution_count": 5,
     "metadata": {},
     "output_type": "execute_result"
    }
   ],
   "source": [
    "myDatamine.orbital_insights_load(False)"
   ]
  },
  {
   "cell_type": "code",
   "execution_count": 6,
   "metadata": {},
   "outputs": [
    {
     "data": {
      "text/html": [
       "<div>\n",
       "<style scoped>\n",
       "    .dataframe tbody tr th:only-of-type {\n",
       "        vertical-align: middle;\n",
       "    }\n",
       "\n",
       "    .dataframe tbody tr th {\n",
       "        vertical-align: top;\n",
       "    }\n",
       "\n",
       "    .dataframe thead th {\n",
       "        text-align: right;\n",
       "    }\n",
       "</style>\n",
       "<table border=\"1\" class=\"dataframe\">\n",
       "  <thead>\n",
       "    <tr style=\"text-align: right;\">\n",
       "      <th></th>\n",
       "      <th>volume_estimate</th>\n",
       "      <th>smoothed_estimate</th>\n",
       "      <th>volume_estimate_stderr</th>\n",
       "      <th>storage_capacity_estimate</th>\n",
       "      <th>total_available_tanks</th>\n",
       "      <th>sampled_tanks</th>\n",
       "      <th>truth_value_mb</th>\n",
       "      <th>location</th>\n",
       "    </tr>\n",
       "    <tr>\n",
       "      <th>date</th>\n",
       "      <th></th>\n",
       "      <th></th>\n",
       "      <th></th>\n",
       "      <th></th>\n",
       "      <th></th>\n",
       "      <th></th>\n",
       "      <th></th>\n",
       "      <th></th>\n",
       "    </tr>\n",
       "  </thead>\n",
       "  <tbody>\n",
       "    <tr>\n",
       "      <th>2014-01-01</th>\n",
       "      <td>21.011439</td>\n",
       "      <td></td>\n",
       "      <td>1.732893</td>\n",
       "      <td>42.022877</td>\n",
       "      <td>283</td>\n",
       "      <td>0</td>\n",
       "      <td></td>\n",
       "      <td>USA_padd1</td>\n",
       "    </tr>\n",
       "    <tr>\n",
       "      <th>2014-01-02</th>\n",
       "      <td>21.011435</td>\n",
       "      <td></td>\n",
       "      <td>1.732893</td>\n",
       "      <td>42.022877</td>\n",
       "      <td>283</td>\n",
       "      <td>0</td>\n",
       "      <td></td>\n",
       "      <td>USA_padd1</td>\n",
       "    </tr>\n",
       "    <tr>\n",
       "      <th>2014-01-03</th>\n",
       "      <td>21.011435</td>\n",
       "      <td></td>\n",
       "      <td>1.732893</td>\n",
       "      <td>42.022877</td>\n",
       "      <td>283</td>\n",
       "      <td>0</td>\n",
       "      <td>10.95</td>\n",
       "      <td>USA_padd1</td>\n",
       "    </tr>\n",
       "    <tr>\n",
       "      <th>2014-01-04</th>\n",
       "      <td>21.011435</td>\n",
       "      <td></td>\n",
       "      <td>1.732893</td>\n",
       "      <td>42.022877</td>\n",
       "      <td>283</td>\n",
       "      <td>0</td>\n",
       "      <td></td>\n",
       "      <td>USA_padd1</td>\n",
       "    </tr>\n",
       "    <tr>\n",
       "      <th>2014-01-05</th>\n",
       "      <td>21.011435</td>\n",
       "      <td></td>\n",
       "      <td>1.732893</td>\n",
       "      <td>42.022877</td>\n",
       "      <td>283</td>\n",
       "      <td>0</td>\n",
       "      <td></td>\n",
       "      <td>USA_padd1</td>\n",
       "    </tr>\n",
       "  </tbody>\n",
       "</table>\n",
       "</div>"
      ],
      "text/plain": [
       "            volume_estimate smoothed_estimate  volume_estimate_stderr  \\\n",
       "date                                                                    \n",
       "2014-01-01        21.011439                                  1.732893   \n",
       "2014-01-02        21.011435                                  1.732893   \n",
       "2014-01-03        21.011435                                  1.732893   \n",
       "2014-01-04        21.011435                                  1.732893   \n",
       "2014-01-05        21.011435                                  1.732893   \n",
       "\n",
       "            storage_capacity_estimate  total_available_tanks  sampled_tanks  \\\n",
       "date                                                                          \n",
       "2014-01-01                  42.022877                    283              0   \n",
       "2014-01-02                  42.022877                    283              0   \n",
       "2014-01-03                  42.022877                    283              0   \n",
       "2014-01-04                  42.022877                    283              0   \n",
       "2014-01-05                  42.022877                    283              0   \n",
       "\n",
       "           truth_value_mb   location  \n",
       "date                                  \n",
       "2014-01-01                 USA_padd1  \n",
       "2014-01-02                 USA_padd1  \n",
       "2014-01-03          10.95  USA_padd1  \n",
       "2014-01-04                 USA_padd1  \n",
       "2014-01-05                 USA_padd1  "
      ]
     },
     "execution_count": 6,
     "metadata": {},
     "output_type": "execute_result"
    }
   ],
   "source": [
    "myDatamine.orbital_insights_DF.head()"
   ]
  },
  {
   "cell_type": "code",
   "execution_count": 7,
   "metadata": {},
   "outputs": [
    {
     "data": {
      "image/png": "[encoded data removed]",
      "text/plain": [
       "<matplotlib.figure.Figure at 0x10d2f7fd0>"
      ]
     },
     "metadata": {},
     "output_type": "display_data"
    }
   ],
   "source": [
    "myDatamine.orbital_insights_DF.loc[myDatamine.orbital_insights_DF['location'] \n",
    "                                   == 'USA_permian','storage_capacity_estimate'\n",
    "                                  ].dropna().plot(figsize=[15,5])\n",
    "plt.title('Historical Permium Base Estimated Storage Capacity')\n",
    "plt.xlabel('Date')\n",
    "plt.ylabel('Barrels (M)')\n",
    "plt.style.use('fivethirtyeight')\n",
    "plt.show()"
   ]
  },
  {
   "cell_type": "markdown",
   "metadata": {},
   "source": [
    "# Tellus Labs"
   ]
  },
  {
   "cell_type": "code",
   "execution_count": 11,
   "metadata": {},
   "outputs": [
    {
     "data": {
      "text/plain": [
       "0"
      ]
     },
     "execution_count": 11,
     "metadata": {},
     "output_type": "execute_result"
    }
   ],
   "source": [
    "myDatamine.get_catalog(dataset='TELLUSLABS', limit=5000, refresh=True)\n",
    "myDatamine.tellus_labs_load(False)"
   ]
  },
  {
   "cell_type": "code",
   "execution_count": 12,
   "metadata": {},
   "outputs": [
    {
     "data": {
      "text/html": [
       "<div>\n",
       "<style scoped>\n",
       "    .dataframe tbody tr th:only-of-type {\n",
       "        vertical-align: middle;\n",
       "    }\n",
       "\n",
       "    .dataframe tbody tr th {\n",
       "        vertical-align: top;\n",
       "    }\n",
       "\n",
       "    .dataframe thead th {\n",
       "        text-align: right;\n",
       "    }\n",
       "</style>\n",
       "<table border=\"1\" class=\"dataframe\">\n",
       "  <thead>\n",
       "    <tr style=\"text-align: right;\">\n",
       "      <th></th>\n",
       "      <th>crop</th>\n",
       "      <th>country_iso</th>\n",
       "      <th>geo_level</th>\n",
       "      <th>geo_id</th>\n",
       "      <th>geo_display_name</th>\n",
       "      <th>value</th>\n",
       "      <th>measure</th>\n",
       "    </tr>\n",
       "    <tr>\n",
       "      <th>metric_date</th>\n",
       "      <th></th>\n",
       "      <th></th>\n",
       "      <th></th>\n",
       "      <th></th>\n",
       "      <th></th>\n",
       "      <th></th>\n",
       "      <th></th>\n",
       "    </tr>\n",
       "  </thead>\n",
       "  <tbody>\n",
       "    <tr>\n",
       "      <th>2017-02-16</th>\n",
       "      <td>corn</td>\n",
       "      <td>ARG</td>\n",
       "      <td>level_1</td>\n",
       "      <td>0</td>\n",
       "      <td>ARGENTINA</td>\n",
       "      <td>0.732763</td>\n",
       "      <td>SATTELNDVI</td>\n",
       "    </tr>\n",
       "    <tr>\n",
       "      <th>2017-02-16</th>\n",
       "      <td>corn</td>\n",
       "      <td>ARG</td>\n",
       "      <td>level_2</td>\n",
       "      <td>1</td>\n",
       "      <td>BUENOS AIRES</td>\n",
       "      <td>0.742668</td>\n",
       "      <td>SATTELNDVI</td>\n",
       "    </tr>\n",
       "    <tr>\n",
       "      <th>2017-02-16</th>\n",
       "      <td>corn</td>\n",
       "      <td>ARG</td>\n",
       "      <td>level_2</td>\n",
       "      <td>2</td>\n",
       "      <td>CÃRDOBA</td>\n",
       "      <td>0.788570</td>\n",
       "      <td>SATTELNDVI</td>\n",
       "    </tr>\n",
       "    <tr>\n",
       "      <th>2017-02-16</th>\n",
       "      <td>corn</td>\n",
       "      <td>ARG</td>\n",
       "      <td>level_2</td>\n",
       "      <td>4</td>\n",
       "      <td>CHACO</td>\n",
       "      <td>0.568453</td>\n",
       "      <td>SATTELNDVI</td>\n",
       "    </tr>\n",
       "    <tr>\n",
       "      <th>2017-02-16</th>\n",
       "      <td>corn</td>\n",
       "      <td>ARG</td>\n",
       "      <td>level_2</td>\n",
       "      <td>8</td>\n",
       "      <td>ENTRE RÃOS</td>\n",
       "      <td>0.703063</td>\n",
       "      <td>SATTELNDVI</td>\n",
       "    </tr>\n",
       "  </tbody>\n",
       "</table>\n",
       "</div>"
      ],
      "text/plain": [
       "             crop country_iso geo_level  geo_id geo_display_name     value  \\\n",
       "metric_date                                                                  \n",
       "2017-02-16   corn         ARG   level_1       0        ARGENTINA  0.732763   \n",
       "2017-02-16   corn         ARG   level_2       1     BUENOS AIRES  0.742668   \n",
       "2017-02-16   corn         ARG   level_2       2         CÃRDOBA  0.788570   \n",
       "2017-02-16   corn         ARG   level_2       4            CHACO  0.568453   \n",
       "2017-02-16   corn         ARG   level_2       8      ENTRE RÃOS  0.703063   \n",
       "\n",
       "                measure  \n",
       "metric_date              \n",
       "2017-02-16   SATTELNDVI  \n",
       "2017-02-16   SATTELNDVI  \n",
       "2017-02-16   SATTELNDVI  \n",
       "2017-02-16   SATTELNDVI  \n",
       "2017-02-16   SATTELNDVI  "
      ]
     },
     "execution_count": 12,
     "metadata": {},
     "output_type": "execute_result"
    }
   ],
   "source": [
    "myDatamine.tellus_labs_DF.head()"
   ]
  },
  {
   "cell_type": "code",
   "execution_count": 13,
   "metadata": {},
   "outputs": [
    {
     "data": {
      "text/plain": [
       "TELLUSCHIN    44511\n",
       "SATTELNDVI    44511\n",
       "Name: measure, dtype: int64"
      ]
     },
     "execution_count": 13,
     "metadata": {},
     "output_type": "execute_result"
    }
   ],
   "source": [
    "#There are two measures for Tellus: SATTELNDVI and TELLUSCHIN\n",
    "myDatamine.tellus_labs_DF.measure.value_counts()"
   ]
  },
  {
   "cell_type": "code",
   "execution_count": 14,
   "metadata": {},
   "outputs": [
    {
     "data": {
      "image/png": "[encoded data removed]",
      "text/plain": [
       "<matplotlib.figure.Figure at 0x1097fcc18>"
      ]
     },
     "metadata": {},
     "output_type": "display_data"
    }
   ],
   "source": [
    "myDatamine.tellus_labs_DF.loc[(myDatamine.tellus_labs_DF['geo_display_name']  == 'IOWA')\n",
    "                              & (myDatamine.tellus_labs_DF['measure']  == 'TELLUSCHIN')\n",
    "                              & (myDatamine.tellus_labs_DF['crop']=='corn')\n",
    "                              & (myDatamine.tellus_labs_DF['geo_level'] == 'level_2')\n",
    "                              ,'value'\n",
    "                                  ].dropna().plot(figsize=[15,5])\n",
    "plt.title('Tellus Historical United States TELLUSCHIN Measure')\n",
    "plt.xlabel('Date')\n",
    "plt.ylabel('NDVI')\n",
    "plt.style.use('fivethirtyeight')\n",
    "plt.show()"
   ]
  },
  {
   "cell_type": "code",
   "execution_count": null,
   "metadata": {},
   "outputs": [],
   "source": []
  }
 ],
 "metadata": {
  "kernelspec": {
   "display_name": "Python 3",
   "language": "python",
   "name": "python3"
  },
  "language_info": {
   "codemirror_mode": {
    "name": "ipython",
    "version": 3
   },
   "file_extension": ".py",
   "mimetype": "text/x-python",
   "name": "python",
   "nbconvert_exporter": "python",
   "pygments_lexer": "ipython3",
   "version": "3.5.4"
  }
 },
 "nbformat": 4,
 "nbformat_minor": 1
}
