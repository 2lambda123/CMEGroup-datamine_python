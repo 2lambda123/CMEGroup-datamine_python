{
 "cells": [
  {
   "cell_type": "markdown",
   "metadata": {
    "collapsed": true
   },
   "source": [
    "# Load Datamine Data Locally\n",
    "\n",
    "This workbook will demonstrate using the datamine package to source all your datamine data from CME Group and save it into local folders.\n",
    "\n",
    "This is a working example for reference and is a starting point for more advanced use cases.  This workbook will demonstrate the following workflow\n",
    "1. Credentialling into Datamine\n",
    "2. Retrieving your data catalog of items\n",
    "3. Downloading your data items to your local directories\n",
    "\n",
    "This package does take some basic shortcuts to keep things simple.  They may be improved over time.  This includes\n",
    "1. Package is not cacheing your data catalog locally.  It downloads the catalog each time; if you have a lot of data items (i.e. > 10,000 this may take some time.)\n",
    "2. Package is always downloading all data from Datamine for a given data collection.  It will overwrite local copies of the data.  \n",
    "\n"
   ]
  },
  {
   "cell_type": "code",
   "execution_count": 1,
   "metadata": {},
   "outputs": [],
   "source": [
    "import datamine.io as dm\n",
    "import pandas as pd\n",
    "import warnings\n",
    "warnings.filterwarnings(\"ignore\")\n",
    "import matplotlib.pyplot as plt\n",
    "import matplotlib.dates as mdates\n",
    "from matplotlib import style\n",
    "style.use('fivethirtyeight')\n",
    "\n",
    "%matplotlib inline"
   ]
  },
  {
   "cell_type": "code",
   "execution_count": 2,
   "metadata": {},
   "outputs": [],
   "source": [
    "#Establish an object to interact with CME Datamine.\n",
    "#Supply Credentials per Documentation: http://www.cmegroup.com/market-data/datamine-api.html\n",
    "myDatamine = dm.DatamineCon(username='', password='', path='./data/')"
   ]
  },
  {
   "cell_type": "markdown",
   "metadata": {},
   "source": [
    "## Get Your Catalog Of Data\n",
    "\n",
    "Datamine hosts all your subscriptions for download which you can see in the GUI.  https://datamine.cmegroup.com/\n",
    "\n",
    "The following code will download a catalog of all your items.  We will turn that into a Pandas DataFrame to see what data we have in our account.\n"
   ]
  },
  {
   "cell_type": "code",
   "execution_count": 3,
   "metadata": {
    "scrolled": true
   },
   "outputs": [],
   "source": [
    "#Get the first 1,000 items for Crytocurrencies\n",
    "myDatamine.get_catalog(dataset='CRYPTOCURRENCY', limit=1000)"
   ]
  },
  {
   "cell_type": "code",
   "execution_count": 4,
   "metadata": {},
   "outputs": [
    {
     "data": {
      "text/plain": [
       "('20181127-CRYPTOCURRENCY',\n",
       " {'checksum': 'eec1006638751d9d6190e68726f8c9d4',\n",
       "  'dataset': 'CRYPTOCURRENCY',\n",
       "  'exchangecode': '*',\n",
       "  'expiration': '2018-12-27',\n",
       "  'fid': '20181127-CRYPTOCURRENCY',\n",
       "  'orderid': '6792',\n",
       "  's3url': 'cmegroup-main-us-east-1-datamine-prod/bitcoin/20181127/20181127_btcIndexJson.gz',\n",
       "  'size': 4001552,\n",
       "  'url': 'https://datamine.cmegroup.com/cme/api/v1/download?fid=20181127-CRYPTOCURRENCY',\n",
       "  'yyyymmdd': '20181127'})"
      ]
     },
     "execution_count": 4,
     "metadata": {},
     "output_type": "execute_result"
    }
   ],
   "source": [
    "# Review one of the data catalog items as supplied in dict format.  \n",
    "myDatamine.data_catalog.popitem()"
   ]
  },
  {
   "cell_type": "code",
   "execution_count": 5,
   "metadata": {},
   "outputs": [
    {
     "data": {
      "text/html": [
       "<div>\n",
       "<style scoped>\n",
       "    .dataframe tbody tr th:only-of-type {\n",
       "        vertical-align: middle;\n",
       "    }\n",
       "\n",
       "    .dataframe tbody tr th {\n",
       "        vertical-align: top;\n",
       "    }\n",
       "\n",
       "    .dataframe thead th {\n",
       "        text-align: right;\n",
       "    }\n",
       "</style>\n",
       "<table border=\"1\" class=\"dataframe\">\n",
       "  <thead>\n",
       "    <tr style=\"text-align: right;\">\n",
       "      <th></th>\n",
       "      <th>checksum</th>\n",
       "      <th>dataset</th>\n",
       "      <th>exchangecode</th>\n",
       "      <th>expiration</th>\n",
       "      <th>fid</th>\n",
       "      <th>orderid</th>\n",
       "      <th>s3url</th>\n",
       "      <th>size</th>\n",
       "      <th>url</th>\n",
       "      <th>yyyymmdd</th>\n",
       "    </tr>\n",
       "  </thead>\n",
       "  <tbody>\n",
       "    <tr>\n",
       "      <th>20181226-CRYPTOCURRENCY</th>\n",
       "      <td>66b23894b7d2ba8cfbe02b623e0a041e</td>\n",
       "      <td>CRYPTOCURRENCY</td>\n",
       "      <td>*</td>\n",
       "      <td>2019-01-25</td>\n",
       "      <td>20181226-CRYPTOCURRENCY</td>\n",
       "      <td>6792</td>\n",
       "      <td>cmegroup-main-us-east-1-datamine-prod/bitcoin/...</td>\n",
       "      <td>3811623</td>\n",
       "      <td>https://datamine.cmegroup.com/cme/api/v1/downl...</td>\n",
       "      <td>20181226</td>\n",
       "    </tr>\n",
       "    <tr>\n",
       "      <th>20181225-CRYPTOCURRENCY</th>\n",
       "      <td>0768d91e5ba8249554b62b8d0646b059</td>\n",
       "      <td>CRYPTOCURRENCY</td>\n",
       "      <td>*</td>\n",
       "      <td>2019-01-24</td>\n",
       "      <td>20181225-CRYPTOCURRENCY</td>\n",
       "      <td>6792</td>\n",
       "      <td>cmegroup-main-us-east-1-datamine-prod/bitcoin/...</td>\n",
       "      <td>3845366</td>\n",
       "      <td>https://datamine.cmegroup.com/cme/api/v1/downl...</td>\n",
       "      <td>20181225</td>\n",
       "    </tr>\n",
       "    <tr>\n",
       "      <th>20181224-CRYPTOCURRENCY</th>\n",
       "      <td>f02a906a798a1a75cf507a043ea92172</td>\n",
       "      <td>CRYPTOCURRENCY</td>\n",
       "      <td>*</td>\n",
       "      <td>2019-01-23</td>\n",
       "      <td>20181224-CRYPTOCURRENCY</td>\n",
       "      <td>6792</td>\n",
       "      <td>cmegroup-main-us-east-1-datamine-prod/bitcoin/...</td>\n",
       "      <td>3836599</td>\n",
       "      <td>https://datamine.cmegroup.com/cme/api/v1/downl...</td>\n",
       "      <td>20181224</td>\n",
       "    </tr>\n",
       "    <tr>\n",
       "      <th>20181223-CRYPTOCURRENCY</th>\n",
       "      <td>cd85bfc8d6bbdc5e50636c9509ccaeae</td>\n",
       "      <td>CRYPTOCURRENCY</td>\n",
       "      <td>*</td>\n",
       "      <td>2019-01-22</td>\n",
       "      <td>20181223-CRYPTOCURRENCY</td>\n",
       "      <td>6792</td>\n",
       "      <td>cmegroup-main-us-east-1-datamine-prod/bitcoin/...</td>\n",
       "      <td>3981944</td>\n",
       "      <td>https://datamine.cmegroup.com/cme/api/v1/downl...</td>\n",
       "      <td>20181223</td>\n",
       "    </tr>\n",
       "    <tr>\n",
       "      <th>20181222-CRYPTOCURRENCY</th>\n",
       "      <td>df11833586226998c049d3de4eaad660</td>\n",
       "      <td>CRYPTOCURRENCY</td>\n",
       "      <td>*</td>\n",
       "      <td>2019-01-21</td>\n",
       "      <td>20181222-CRYPTOCURRENCY</td>\n",
       "      <td>6792</td>\n",
       "      <td>cmegroup-main-us-east-1-datamine-prod/bitcoin/...</td>\n",
       "      <td>3967109</td>\n",
       "      <td>https://datamine.cmegroup.com/cme/api/v1/downl...</td>\n",
       "      <td>20181222</td>\n",
       "    </tr>\n",
       "  </tbody>\n",
       "</table>\n",
       "</div>"
      ],
      "text/plain": [
       "                                                 checksum         dataset  \\\n",
       "20181226-CRYPTOCURRENCY  66b23894b7d2ba8cfbe02b623e0a041e  CRYPTOCURRENCY   \n",
       "20181225-CRYPTOCURRENCY  0768d91e5ba8249554b62b8d0646b059  CRYPTOCURRENCY   \n",
       "20181224-CRYPTOCURRENCY  f02a906a798a1a75cf507a043ea92172  CRYPTOCURRENCY   \n",
       "20181223-CRYPTOCURRENCY  cd85bfc8d6bbdc5e50636c9509ccaeae  CRYPTOCURRENCY   \n",
       "20181222-CRYPTOCURRENCY  df11833586226998c049d3de4eaad660  CRYPTOCURRENCY   \n",
       "\n",
       "                        exchangecode  expiration                      fid  \\\n",
       "20181226-CRYPTOCURRENCY            *  2019-01-25  20181226-CRYPTOCURRENCY   \n",
       "20181225-CRYPTOCURRENCY            *  2019-01-24  20181225-CRYPTOCURRENCY   \n",
       "20181224-CRYPTOCURRENCY            *  2019-01-23  20181224-CRYPTOCURRENCY   \n",
       "20181223-CRYPTOCURRENCY            *  2019-01-22  20181223-CRYPTOCURRENCY   \n",
       "20181222-CRYPTOCURRENCY            *  2019-01-21  20181222-CRYPTOCURRENCY   \n",
       "\n",
       "                        orderid  \\\n",
       "20181226-CRYPTOCURRENCY    6792   \n",
       "20181225-CRYPTOCURRENCY    6792   \n",
       "20181224-CRYPTOCURRENCY    6792   \n",
       "20181223-CRYPTOCURRENCY    6792   \n",
       "20181222-CRYPTOCURRENCY    6792   \n",
       "\n",
       "                                                                     s3url  \\\n",
       "20181226-CRYPTOCURRENCY  cmegroup-main-us-east-1-datamine-prod/bitcoin/...   \n",
       "20181225-CRYPTOCURRENCY  cmegroup-main-us-east-1-datamine-prod/bitcoin/...   \n",
       "20181224-CRYPTOCURRENCY  cmegroup-main-us-east-1-datamine-prod/bitcoin/...   \n",
       "20181223-CRYPTOCURRENCY  cmegroup-main-us-east-1-datamine-prod/bitcoin/...   \n",
       "20181222-CRYPTOCURRENCY  cmegroup-main-us-east-1-datamine-prod/bitcoin/...   \n",
       "\n",
       "                            size  \\\n",
       "20181226-CRYPTOCURRENCY  3811623   \n",
       "20181225-CRYPTOCURRENCY  3845366   \n",
       "20181224-CRYPTOCURRENCY  3836599   \n",
       "20181223-CRYPTOCURRENCY  3981944   \n",
       "20181222-CRYPTOCURRENCY  3967109   \n",
       "\n",
       "                                                                       url  \\\n",
       "20181226-CRYPTOCURRENCY  https://datamine.cmegroup.com/cme/api/v1/downl...   \n",
       "20181225-CRYPTOCURRENCY  https://datamine.cmegroup.com/cme/api/v1/downl...   \n",
       "20181224-CRYPTOCURRENCY  https://datamine.cmegroup.com/cme/api/v1/downl...   \n",
       "20181223-CRYPTOCURRENCY  https://datamine.cmegroup.com/cme/api/v1/downl...   \n",
       "20181222-CRYPTOCURRENCY  https://datamine.cmegroup.com/cme/api/v1/downl...   \n",
       "\n",
       "                         yyyymmdd  \n",
       "20181226-CRYPTOCURRENCY  20181226  \n",
       "20181225-CRYPTOCURRENCY  20181225  \n",
       "20181224-CRYPTOCURRENCY  20181224  \n",
       "20181223-CRYPTOCURRENCY  20181223  \n",
       "20181222-CRYPTOCURRENCY  20181222  "
      ]
     },
     "execution_count": 5,
     "metadata": {},
     "output_type": "execute_result"
    }
   ],
   "source": [
    "# We can view the data catalog easier in a Pandas Dataframe\n",
    "dataCatalogDF = pd.DataFrame.from_dict(myDatamine.data_catalog,).T\n",
    "dataCatalogDF.head()"
   ]
  },
  {
   "cell_type": "code",
   "execution_count": 6,
   "metadata": {},
   "outputs": [
    {
     "data": {
      "text/plain": [
       "CRYPTOCURRENCY    29\n",
       "Name: dataset, dtype: int64"
      ]
     },
     "execution_count": 6,
     "metadata": {},
     "output_type": "execute_result"
    }
   ],
   "source": [
    "# We can see how many data products we can access\n",
    "dataCatalogDF.dataset.value_counts()"
   ]
  },
  {
   "cell_type": "markdown",
   "metadata": {},
   "source": [
    "## Using The Data \n",
    "\n",
    "The following will show you example of how the Datamine python module can be used to copy down the data from the cloud to your local computer.  \n",
    "\n",
    "This routine will download the data to the /data/* folder for each specific data set.  This routine copies everything down and overwrites anything locally.  This routine will take time depending upon the amount of data on the cloud that your trying to pull down.  The pulls are multithreaded to speed them up; you can adjust this by adjusting the processes in the MyDatamine object.\n",
    "\n",
    "```myDatamine.processes = 4```"
   ]
  },
  {
   "cell_type": "markdown",
   "metadata": {},
   "source": [
    "### Bitcoin & Crypto Currencies"
   ]
  },
  {
   "cell_type": "code",
   "execution_count": 7,
   "metadata": {},
   "outputs": [
    {
     "name": "stderr",
     "output_type": "stream",
     "text": [
      "100%|██████████| 30/30 [01:21<00:00,  2.71s/it]\n"
     ]
    }
   ],
   "source": [
    "# Load the bitcoin data from datamine cloud and structure into dataframe of myDatamine.bitcoin_DF.  \n",
    "# Will return 0 if successful\n",
    "myDatamine.crypto_load()"
   ]
  },
  {
   "cell_type": "code",
   "execution_count": 8,
   "metadata": {},
   "outputs": [
    {
     "data": {
      "text/html": [
       "<div>\n",
       "<style scoped>\n",
       "    .dataframe tbody tr th:only-of-type {\n",
       "        vertical-align: middle;\n",
       "    }\n",
       "\n",
       "    .dataframe tbody tr th {\n",
       "        vertical-align: top;\n",
       "    }\n",
       "\n",
       "    .dataframe thead th {\n",
       "        text-align: right;\n",
       "    }\n",
       "</style>\n",
       "<table border=\"1\" class=\"dataframe\">\n",
       "  <thead>\n",
       "    <tr style=\"text-align: right;\">\n",
       "      <th></th>\n",
       "      <th>mdEntryCode</th>\n",
       "      <th>mdEntryPx</th>\n",
       "      <th>mdEntryType</th>\n",
       "      <th>mdUpdateAction</th>\n",
       "      <th>netChgPrevDay</th>\n",
       "      <th>netPctChg</th>\n",
       "      <th>openCloseSettlFlag</th>\n",
       "      <th>rptSeq</th>\n",
       "      <th>symbol</th>\n",
       "    </tr>\n",
       "    <tr>\n",
       "      <th>mdEntryDateTime</th>\n",
       "      <th></th>\n",
       "      <th></th>\n",
       "      <th></th>\n",
       "      <th></th>\n",
       "      <th></th>\n",
       "      <th></th>\n",
       "      <th></th>\n",
       "      <th></th>\n",
       "      <th></th>\n",
       "    </tr>\n",
       "  </thead>\n",
       "  <tbody>\n",
       "    <tr>\n",
       "      <th>2018-11-28 00:00:00+00:00</th>\n",
       "      <td>NaN</td>\n",
       "      <td>108.52</td>\n",
       "      <td>INDEX_VALUE</td>\n",
       "      <td>NEW</td>\n",
       "      <td>NaN</td>\n",
       "      <td>NaN</td>\n",
       "      <td>NaN</td>\n",
       "      <td>18758761</td>\n",
       "      <td>ETHUSD_RTI</td>\n",
       "    </tr>\n",
       "    <tr>\n",
       "      <th>2018-11-28 00:00:00+00:00</th>\n",
       "      <td>NaN</td>\n",
       "      <td>3769.89</td>\n",
       "      <td>INDEX_VALUE</td>\n",
       "      <td>NEW</td>\n",
       "      <td>NaN</td>\n",
       "      <td>NaN</td>\n",
       "      <td>NaN</td>\n",
       "      <td>68064279</td>\n",
       "      <td>BRTI</td>\n",
       "    </tr>\n",
       "    <tr>\n",
       "      <th>2018-11-28 00:00:01+00:00</th>\n",
       "      <td>NaN</td>\n",
       "      <td>108.57</td>\n",
       "      <td>INDEX_VALUE</td>\n",
       "      <td>NEW</td>\n",
       "      <td>NaN</td>\n",
       "      <td>NaN</td>\n",
       "      <td>NaN</td>\n",
       "      <td>18758762</td>\n",
       "      <td>ETHUSD_RTI</td>\n",
       "    </tr>\n",
       "    <tr>\n",
       "      <th>2018-11-28 00:00:01+00:00</th>\n",
       "      <td>NaN</td>\n",
       "      <td>3770.05</td>\n",
       "      <td>INDEX_VALUE</td>\n",
       "      <td>NEW</td>\n",
       "      <td>NaN</td>\n",
       "      <td>NaN</td>\n",
       "      <td>NaN</td>\n",
       "      <td>68064280</td>\n",
       "      <td>BRTI</td>\n",
       "    </tr>\n",
       "    <tr>\n",
       "      <th>2018-11-28 00:00:02+00:00</th>\n",
       "      <td>NaN</td>\n",
       "      <td>3770.68</td>\n",
       "      <td>INDEX_VALUE</td>\n",
       "      <td>NEW</td>\n",
       "      <td>NaN</td>\n",
       "      <td>NaN</td>\n",
       "      <td>NaN</td>\n",
       "      <td>68064281</td>\n",
       "      <td>BRTI</td>\n",
       "    </tr>\n",
       "  </tbody>\n",
       "</table>\n",
       "</div>"
      ],
      "text/plain": [
       "                          mdEntryCode  mdEntryPx  mdEntryType mdUpdateAction  \\\n",
       "mdEntryDateTime                                                                \n",
       "2018-11-28 00:00:00+00:00         NaN     108.52  INDEX_VALUE            NEW   \n",
       "2018-11-28 00:00:00+00:00         NaN    3769.89  INDEX_VALUE            NEW   \n",
       "2018-11-28 00:00:01+00:00         NaN     108.57  INDEX_VALUE            NEW   \n",
       "2018-11-28 00:00:01+00:00         NaN    3770.05  INDEX_VALUE            NEW   \n",
       "2018-11-28 00:00:02+00:00         NaN    3770.68  INDEX_VALUE            NEW   \n",
       "\n",
       "                           netChgPrevDay  netPctChg openCloseSettlFlag  \\\n",
       "mdEntryDateTime                                                          \n",
       "2018-11-28 00:00:00+00:00            NaN        NaN                NaN   \n",
       "2018-11-28 00:00:00+00:00            NaN        NaN                NaN   \n",
       "2018-11-28 00:00:01+00:00            NaN        NaN                NaN   \n",
       "2018-11-28 00:00:01+00:00            NaN        NaN                NaN   \n",
       "2018-11-28 00:00:02+00:00            NaN        NaN                NaN   \n",
       "\n",
       "                             rptSeq      symbol  \n",
       "mdEntryDateTime                                  \n",
       "2018-11-28 00:00:00+00:00  18758761  ETHUSD_RTI  \n",
       "2018-11-28 00:00:00+00:00  68064279        BRTI  \n",
       "2018-11-28 00:00:01+00:00  18758762  ETHUSD_RTI  \n",
       "2018-11-28 00:00:01+00:00  68064280        BRTI  \n",
       "2018-11-28 00:00:02+00:00  68064281        BRTI  "
      ]
     },
     "execution_count": 8,
     "metadata": {},
     "output_type": "execute_result"
    }
   ],
   "source": [
    "#look at the data frame\n",
    "myDatamine.crypto_DF.head()"
   ]
  },
  {
   "cell_type": "code",
   "execution_count": 9,
   "metadata": {},
   "outputs": [
    {
     "data": {
      "text/plain": [
       "BRTI          2504328\n",
       "ETHUSD_RTI    2503978\n",
       "ETHUSD_RR          29\n",
       "BRR                29\n",
       "Name: symbol, dtype: int64"
      ]
     },
     "execution_count": 9,
     "metadata": {},
     "output_type": "execute_result"
    }
   ],
   "source": [
    "#There are many values in the file; \n",
    "#We are intesested in every second value as 'BRTI' and one daily index that is daily as 'BRR'\n",
    "myDatamine.crypto_DF.symbol.value_counts()"
   ]
  },
  {
   "cell_type": "markdown",
   "metadata": {},
   "source": [
    "### Bitcoin Real Time Index Rate"
   ]
  },
  {
   "cell_type": "code",
   "execution_count": 10,
   "metadata": {},
   "outputs": [
    {
     "data": {
      "image/png": "[encoded data removed]",
      "text/plain": [
       "<Figure size 1080x360 with 1 Axes>"
      ]
     },
     "metadata": {},
     "output_type": "display_data"
    }
   ],
   "source": [
    "indexValue = myDatamine.crypto_DF.loc[myDatamine.crypto_DF['symbol'] =='BRTI','mdEntryPx'].plot(figsize=[15,5]);\n",
    "plt.title('Historical Bitcoin Intraday Reference Rate')\n",
    "plt.xlabel('Date')\n",
    "plt.ylabel('USD/BTC')\n",
    "plt.style.use('fivethirtyeight')\n",
    "plt.savefig('./images/BitcoinRTIndexValue.png')\n",
    "plt.show()"
   ]
  },
  {
   "cell_type": "markdown",
   "metadata": {},
   "source": [
    "## Bitcoin End of Day Value\n",
    "\n",
    "\n"
   ]
  },
  {
   "cell_type": "code",
   "execution_count": 11,
   "metadata": {},
   "outputs": [
    {
     "data": {
      "image/png": "[encoded data removed]",
      "text/plain": [
       "<Figure size 1080x360 with 1 Axes>"
      ]
     },
     "metadata": {},
     "output_type": "display_data"
    }
   ],
   "source": [
    "myDatamine.crypto_DF.loc[myDatamine.crypto_DF['symbol'] =='BRR','mdEntryPx'].plot(figsize=[15,5])\n",
    "plt.title('Historical Bitcoin Daily Value')\n",
    "plt.xlabel('Date')\n",
    "plt.ylabel('USD/BTC')\n",
    "plt.style.use('fivethirtyeight')\n",
    "plt.savefig('./images/BitcoinEndofDayValue.png')\n",
    "plt.show()"
   ]
  },
  {
   "cell_type": "markdown",
   "metadata": {},
   "source": [
    "## Tick Data / Time and Sales\n",
    "\n",
    "Tick data is considered Time and Sales.  This is data that represents the time that a specific product was traded between two parties at a given price.  The following will download the data local and load it into a Pandas DataFrame for analysis."
   ]
  },
  {
   "cell_type": "code",
   "execution_count": 12,
   "metadata": {},
   "outputs": [],
   "source": [
    "#update my catalog with Tick Data\n",
    "myDatamine.get_catalog(dataset='TICK', limit=1000, refresh=True)"
   ]
  },
  {
   "cell_type": "code",
   "execution_count": 13,
   "metadata": {},
   "outputs": [
    {
     "name": "stderr",
     "output_type": "stream",
     "text": [
      "100%|██████████| 1/1 [00:00<00:00, 10.22it/s]\n"
     ]
    }
   ],
   "source": [
    "#download and load my data\n",
    "#Tick Data can be a lot of files and can take time to load into a Pandas Dataframe...\n",
    "myDatamine.time_sales_load(False)"
   ]
  },
  {
   "cell_type": "code",
   "execution_count": 14,
   "metadata": {},
   "outputs": [
    {
     "data": {
      "text/html": [
       "<div>\n",
       "<style scoped>\n",
       "    .dataframe tbody tr th:only-of-type {\n",
       "        vertical-align: middle;\n",
       "    }\n",
       "\n",
       "    .dataframe tbody tr th {\n",
       "        vertical-align: top;\n",
       "    }\n",
       "\n",
       "    .dataframe thead th {\n",
       "        text-align: right;\n",
       "    }\n",
       "</style>\n",
       "<table border=\"1\" class=\"dataframe\">\n",
       "  <thead>\n",
       "    <tr style=\"text-align: right;\">\n",
       "      <th></th>\n",
       "      <th>trade_date</th>\n",
       "      <th>trade_time</th>\n",
       "      <th>trade_sequence_number</th>\n",
       "      <th>session_indicator</th>\n",
       "      <th>ticker_symbol</th>\n",
       "      <th>future_option_index_indicator</th>\n",
       "      <th>contract_delivery_date</th>\n",
       "      <th>trade_quantity</th>\n",
       "      <th>strike_price</th>\n",
       "      <th>trade_price</th>\n",
       "      <th>...</th>\n",
       "      <th>valid_open_exception</th>\n",
       "      <th>post_close</th>\n",
       "      <th>cancel_code_type</th>\n",
       "      <th>insert_code_type</th>\n",
       "      <th>fast_late_indicator</th>\n",
       "      <th>cabinet_indicator</th>\n",
       "      <th>book_indicator</th>\n",
       "      <th>entry_date</th>\n",
       "      <th>exchange_code</th>\n",
       "      <th>trade_date_time</th>\n",
       "    </tr>\n",
       "  </thead>\n",
       "  <tbody>\n",
       "    <tr>\n",
       "      <th>0</th>\n",
       "      <td>2018-07-10</td>\n",
       "      <td>19:09:51</td>\n",
       "      <td>3541</td>\n",
       "      <td>E</td>\n",
       "      <td>ED</td>\n",
       "      <td>F</td>\n",
       "      <td>1807</td>\n",
       "      <td>200</td>\n",
       "      <td>0.0</td>\n",
       "      <td>97.6625</td>\n",
       "      <td>...</td>\n",
       "      <td></td>\n",
       "      <td></td>\n",
       "      <td></td>\n",
       "      <td></td>\n",
       "      <td></td>\n",
       "      <td></td>\n",
       "      <td></td>\n",
       "      <td>20180709</td>\n",
       "      <td>XCME</td>\n",
       "      <td>2018-07-10 19:09:51+00:00</td>\n",
       "    </tr>\n",
       "    <tr>\n",
       "      <th>1</th>\n",
       "      <td>2018-07-10</td>\n",
       "      <td>19:09:51</td>\n",
       "      <td>3546</td>\n",
       "      <td>E</td>\n",
       "      <td>ED</td>\n",
       "      <td>F</td>\n",
       "      <td>1807</td>\n",
       "      <td>0</td>\n",
       "      <td>0.0</td>\n",
       "      <td>97.6625</td>\n",
       "      <td>...</td>\n",
       "      <td></td>\n",
       "      <td></td>\n",
       "      <td></td>\n",
       "      <td></td>\n",
       "      <td></td>\n",
       "      <td></td>\n",
       "      <td></td>\n",
       "      <td>20180709</td>\n",
       "      <td>XCME</td>\n",
       "      <td>2018-07-10 19:09:51+00:00</td>\n",
       "    </tr>\n",
       "    <tr>\n",
       "      <th>2</th>\n",
       "      <td>2018-07-10</td>\n",
       "      <td>01:00:20</td>\n",
       "      <td>4041</td>\n",
       "      <td>E</td>\n",
       "      <td>ED</td>\n",
       "      <td>F</td>\n",
       "      <td>1807</td>\n",
       "      <td>500</td>\n",
       "      <td>0.0</td>\n",
       "      <td>97.6650</td>\n",
       "      <td>...</td>\n",
       "      <td></td>\n",
       "      <td></td>\n",
       "      <td></td>\n",
       "      <td></td>\n",
       "      <td></td>\n",
       "      <td></td>\n",
       "      <td></td>\n",
       "      <td>20180710</td>\n",
       "      <td>XCME</td>\n",
       "      <td>2018-07-10 01:00:20+00:00</td>\n",
       "    </tr>\n",
       "    <tr>\n",
       "      <th>3</th>\n",
       "      <td>2018-07-10</td>\n",
       "      <td>01:39:18</td>\n",
       "      <td>4569</td>\n",
       "      <td>E</td>\n",
       "      <td>ED</td>\n",
       "      <td>F</td>\n",
       "      <td>1807</td>\n",
       "      <td>1000</td>\n",
       "      <td>0.0</td>\n",
       "      <td>97.6650</td>\n",
       "      <td>...</td>\n",
       "      <td></td>\n",
       "      <td></td>\n",
       "      <td></td>\n",
       "      <td></td>\n",
       "      <td></td>\n",
       "      <td></td>\n",
       "      <td></td>\n",
       "      <td>20180710</td>\n",
       "      <td>XCME</td>\n",
       "      <td>2018-07-10 01:39:18+00:00</td>\n",
       "    </tr>\n",
       "    <tr>\n",
       "      <th>4</th>\n",
       "      <td>2018-07-10</td>\n",
       "      <td>01:44:07</td>\n",
       "      <td>4583</td>\n",
       "      <td>E</td>\n",
       "      <td>ED</td>\n",
       "      <td>F</td>\n",
       "      <td>1807</td>\n",
       "      <td>5</td>\n",
       "      <td>0.0</td>\n",
       "      <td>97.6650</td>\n",
       "      <td>...</td>\n",
       "      <td></td>\n",
       "      <td></td>\n",
       "      <td></td>\n",
       "      <td></td>\n",
       "      <td></td>\n",
       "      <td></td>\n",
       "      <td></td>\n",
       "      <td>20180710</td>\n",
       "      <td>XCME</td>\n",
       "      <td>2018-07-10 01:44:07+00:00</td>\n",
       "    </tr>\n",
       "  </tbody>\n",
       "</table>\n",
       "<p>5 rows × 24 columns</p>\n",
       "</div>"
      ],
      "text/plain": [
       "  trade_date trade_time  trade_sequence_number session_indicator  \\\n",
       "0 2018-07-10   19:09:51                   3541                 E   \n",
       "1 2018-07-10   19:09:51                   3546                 E   \n",
       "2 2018-07-10   01:00:20                   4041                 E   \n",
       "3 2018-07-10   01:39:18                   4569                 E   \n",
       "4 2018-07-10   01:44:07                   4583                 E   \n",
       "\n",
       "  ticker_symbol future_option_index_indicator  contract_delivery_date  \\\n",
       "0            ED                             F                    1807   \n",
       "1            ED                             F                    1807   \n",
       "2            ED                             F                    1807   \n",
       "3            ED                             F                    1807   \n",
       "4            ED                             F                    1807   \n",
       "\n",
       "   trade_quantity  strike_price  trade_price            ...             \\\n",
       "0             200           0.0      97.6625            ...              \n",
       "1               0           0.0      97.6625            ...              \n",
       "2             500           0.0      97.6650            ...              \n",
       "3            1000           0.0      97.6650            ...              \n",
       "4               5           0.0      97.6650            ...              \n",
       "\n",
       "  valid_open_exception post_close cancel_code_type insert_code_type  \\\n",
       "0                                                                     \n",
       "1                                                                     \n",
       "2                                                                     \n",
       "3                                                                     \n",
       "4                                                                     \n",
       "\n",
       "  fast_late_indicator cabinet_indicator book_indicator entry_date  \\\n",
       "0                                                        20180709   \n",
       "1                                                        20180709   \n",
       "2                                                        20180710   \n",
       "3                                                        20180710   \n",
       "4                                                        20180710   \n",
       "\n",
       "  exchange_code           trade_date_time  \n",
       "0          XCME 2018-07-10 19:09:51+00:00  \n",
       "1          XCME 2018-07-10 19:09:51+00:00  \n",
       "2          XCME 2018-07-10 01:00:20+00:00  \n",
       "3          XCME 2018-07-10 01:39:18+00:00  \n",
       "4          XCME 2018-07-10 01:44:07+00:00  \n",
       "\n",
       "[5 rows x 24 columns]"
      ]
     },
     "execution_count": 14,
     "metadata": {},
     "output_type": "execute_result"
    }
   ],
   "source": [
    "ts = myDatamine.time_sales_DF\n",
    "ts.head()"
   ]
  },
  {
   "cell_type": "code",
   "execution_count": 15,
   "metadata": {},
   "outputs": [
    {
     "data": {
      "text/plain": [
       "ED    19829\n",
       "Name: ticker_symbol, dtype: int64"
      ]
     },
     "execution_count": 15,
     "metadata": {},
     "output_type": "execute_result"
    }
   ],
   "source": [
    "#Review the Symbols we have loaded.  ED= Eurodollars\n",
    "#See https://www.cmegroup.com/trading/products/#pageNumber=1&sortField=oi&sortAsc=false for product code and information\n",
    "ts.ticker_symbol.value_counts()"
   ]
  },
  {
   "cell_type": "code",
   "execution_count": 17,
   "metadata": {},
   "outputs": [
    {
     "data": {
      "image/png": "[encoded data removed]",
      "text/plain": [
       "<Figure size 432x288 with 1 Axes>"
      ]
     },
     "metadata": {},
     "output_type": "display_data"
    }
   ],
   "source": [
    "#Plot Histogram of lot size of a given trade for Euro Dollars Oil\n",
    "ts.loc[ts.ticker_symbol =='ED','trade_quantity'].hist(bins=20).set_yscale('log')"
   ]
  },
  {
   "cell_type": "code",
   "execution_count": null,
   "metadata": {},
   "outputs": [],
   "source": []
  }
 ],
 "metadata": {
  "kernelspec": {
   "display_name": "Python 3",
   "language": "python",
   "name": "python3"
  },
  "language_info": {
   "codemirror_mode": {
    "name": "ipython",
    "version": 3
   },
   "file_extension": ".py",
   "mimetype": "text/x-python",
   "name": "python",
   "nbconvert_exporter": "python",
   "pygments_lexer": "ipython3",
   "version": "3.6.2"
  }
 },
 "nbformat": 4,
 "nbformat_minor": 1
}
