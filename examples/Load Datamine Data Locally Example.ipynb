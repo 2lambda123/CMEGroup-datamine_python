{
 "cells": [
  {
   "cell_type": "markdown",
   "metadata": {
    "collapsed": true
   },
   "source": [
    "# Load Datamine Data Locally\n",
    "\n",
    "This workbook will demonstrate using the datamine package to source all your datamine data from CME Group and save it into local folders.\n",
    "\n",
    "This is a working example for reference and is a starting point for more advanced use cases.  This workbook will demonstrate the following workflow\n",
    "1. Credentialling into Datamine\n",
    "2. Retrieving your data catalog of items\n",
    "3. Downloading your data items to your local directories\n",
    "\n",
    "This package does take some basic shortcuts to keep things simple.  They may be improved over time.  This includes\n",
    "1. Package is not cacheing your data catalog locally.  It downloads the catalog each time; if you have a lot of data items (i.e. > 10,000 this may take some time.)\n",
    "2. Package is always downloading all data from Datamine for a given data collection.  It will overwrite local copies of the data.  \n",
    "\n"
   ]
  },
  {
   "cell_type": "code",
   "execution_count": 1,
   "metadata": {},
   "outputs": [],
   "source": [
    "import datamine.io as dm\n",
    "import pandas as pd\n",
    "import matplotlib.pyplot as plt\n",
    "import matplotlib.dates as mdates\n",
    "from matplotlib import style\n",
    "style.use('fivethirtyeight')\n",
    "%matplotlib inline"
   ]
  },
  {
   "cell_type": "code",
   "execution_count": 2,
   "metadata": {},
   "outputs": [],
   "source": [
    "#Establish an object to interact with CME Datamine.\n",
    "#Supply Credentials per Documentation: http://www.cmegroup.com/market-data/datamine-api.html\n",
    "myDatamine = dm.DatamineCon(username='', password='', path='./data/')"
   ]
  },
  {
   "cell_type": "markdown",
   "metadata": {},
   "source": [
    "## Get Your Catalog Of Data\n",
    "\n",
    "Datamine hosts all your subscriptions for download which you can see in the GUI.  https://datamine.cmegroup.com/\n",
    "\n",
    "The following code will download a catalog of all your items.  We will turn that into a Pandas DataFrame to see what data we have in our account.\n"
   ]
  },
  {
   "cell_type": "code",
   "execution_count": 3,
   "metadata": {
    "scrolled": true
   },
   "outputs": [
    {
     "name": "stderr",
     "output_type": "stream",
     "text": [
      "get_catalog: retrieving CRYPTOCURRENCY, limit 1000\n",
      "get_catalog: 30 records downloaded, 0 duplicates, 30 saved\n"
     ]
    }
   ],
   "source": [
    "#Get the first 1,000 items for Crytocurrencies\n",
    "myDatamine.get_catalog(dataset='CRYPTOCURRENCY', limit=1000)"
   ]
  },
  {
   "cell_type": "code",
   "execution_count": 4,
   "metadata": {},
   "outputs": [
    {
     "data": {
      "text/plain": [
       "('20181202-CRYPTOCURRENCY',\n",
       " {'dataset': 'CRYPTOCURRENCY',\n",
       "  'yyyymmdd': '20181202',\n",
       "  'url': 'https://datamine.cmegroup.com/cme/api/v1/download?fid=20181202-CRYPTOCURRENCY',\n",
       "  'fid': '20181202-CRYPTOCURRENCY',\n",
       "  'orderid': '6792',\n",
       "  'exchangecode': '*',\n",
       "  'checksum': 'e5880963cb406183bfa0c2c55efd1036',\n",
       "  'size': 3833185,\n",
       "  'expiration': '2019-01-01',\n",
       "  's3url': 'cmegroup-main-us-east-1-datamine-prod/bitcoin/20181202/20181202_btcIndexJson.gz'})"
      ]
     },
     "execution_count": 4,
     "metadata": {},
     "output_type": "execute_result"
    }
   ],
   "source": [
    "# Review one of the data catalog items as supplied in dict format.  \n",
    "myDatamine.data_catalog.popitem()"
   ]
  },
  {
   "cell_type": "code",
   "execution_count": 5,
   "metadata": {},
   "outputs": [
    {
     "data": {
      "text/html": [
       "<div>\n",
       "<style scoped>\n",
       "    .dataframe tbody tr th:only-of-type {\n",
       "        vertical-align: middle;\n",
       "    }\n",
       "\n",
       "    .dataframe tbody tr th {\n",
       "        vertical-align: top;\n",
       "    }\n",
       "\n",
       "    .dataframe thead th {\n",
       "        text-align: right;\n",
       "    }\n",
       "</style>\n",
       "<table border=\"1\" class=\"dataframe\">\n",
       "  <thead>\n",
       "    <tr style=\"text-align: right;\">\n",
       "      <th></th>\n",
       "      <th>checksum</th>\n",
       "      <th>dataset</th>\n",
       "      <th>exchangecode</th>\n",
       "      <th>expiration</th>\n",
       "      <th>fid</th>\n",
       "      <th>orderid</th>\n",
       "      <th>s3url</th>\n",
       "      <th>size</th>\n",
       "      <th>url</th>\n",
       "      <th>yyyymmdd</th>\n",
       "    </tr>\n",
       "  </thead>\n",
       "  <tbody>\n",
       "    <tr>\n",
       "      <th>20181231-CRYPTOCURRENCY</th>\n",
       "      <td>327660c7c1a0e2f2d3bcb795b626f205</td>\n",
       "      <td>CRYPTOCURRENCY</td>\n",
       "      <td>*</td>\n",
       "      <td>2019-01-30</td>\n",
       "      <td>20181231-CRYPTOCURRENCY</td>\n",
       "      <td>6792</td>\n",
       "      <td>cmegroup-main-us-east-1-datamine-prod/bitcoin/...</td>\n",
       "      <td>3770560</td>\n",
       "      <td>https://datamine.cmegroup.com/cme/api/v1/downl...</td>\n",
       "      <td>20181231</td>\n",
       "    </tr>\n",
       "    <tr>\n",
       "      <th>20181230-CRYPTOCURRENCY</th>\n",
       "      <td>81e5e1a0db352666e743a847cae16ef2</td>\n",
       "      <td>CRYPTOCURRENCY</td>\n",
       "      <td>*</td>\n",
       "      <td>2019-01-29</td>\n",
       "      <td>20181230-CRYPTOCURRENCY</td>\n",
       "      <td>6792</td>\n",
       "      <td>cmegroup-main-us-east-1-datamine-prod/bitcoin/...</td>\n",
       "      <td>3920966</td>\n",
       "      <td>https://datamine.cmegroup.com/cme/api/v1/downl...</td>\n",
       "      <td>20181230</td>\n",
       "    </tr>\n",
       "    <tr>\n",
       "      <th>20181229-CRYPTOCURRENCY</th>\n",
       "      <td>ebd5b06f41cedbed872cdc55903a5f75</td>\n",
       "      <td>CRYPTOCURRENCY</td>\n",
       "      <td>*</td>\n",
       "      <td>2019-01-28</td>\n",
       "      <td>20181229-CRYPTOCURRENCY</td>\n",
       "      <td>6792</td>\n",
       "      <td>cmegroup-main-us-east-1-datamine-prod/bitcoin/...</td>\n",
       "      <td>3801534</td>\n",
       "      <td>https://datamine.cmegroup.com/cme/api/v1/downl...</td>\n",
       "      <td>20181229</td>\n",
       "    </tr>\n",
       "    <tr>\n",
       "      <th>20181228-CRYPTOCURRENCY</th>\n",
       "      <td>53e0396cec119365266291d5edf79ab2</td>\n",
       "      <td>CRYPTOCURRENCY</td>\n",
       "      <td>*</td>\n",
       "      <td>2019-01-27</td>\n",
       "      <td>20181228-CRYPTOCURRENCY</td>\n",
       "      <td>6792</td>\n",
       "      <td>cmegroup-main-us-east-1-datamine-prod/bitcoin/...</td>\n",
       "      <td>3794378</td>\n",
       "      <td>https://datamine.cmegroup.com/cme/api/v1/downl...</td>\n",
       "      <td>20181228</td>\n",
       "    </tr>\n",
       "    <tr>\n",
       "      <th>20181227-CRYPTOCURRENCY</th>\n",
       "      <td>f367120f5d8d92d7cbe1f8ef9f898d43</td>\n",
       "      <td>CRYPTOCURRENCY</td>\n",
       "      <td>*</td>\n",
       "      <td>2019-01-26</td>\n",
       "      <td>20181227-CRYPTOCURRENCY</td>\n",
       "      <td>6792</td>\n",
       "      <td>cmegroup-main-us-east-1-datamine-prod/bitcoin/...</td>\n",
       "      <td>3807716</td>\n",
       "      <td>https://datamine.cmegroup.com/cme/api/v1/downl...</td>\n",
       "      <td>20181227</td>\n",
       "    </tr>\n",
       "  </tbody>\n",
       "</table>\n",
       "</div>"
      ],
      "text/plain": [
       "                                                 checksum         dataset  \\\n",
       "20181231-CRYPTOCURRENCY  327660c7c1a0e2f2d3bcb795b626f205  CRYPTOCURRENCY   \n",
       "20181230-CRYPTOCURRENCY  81e5e1a0db352666e743a847cae16ef2  CRYPTOCURRENCY   \n",
       "20181229-CRYPTOCURRENCY  ebd5b06f41cedbed872cdc55903a5f75  CRYPTOCURRENCY   \n",
       "20181228-CRYPTOCURRENCY  53e0396cec119365266291d5edf79ab2  CRYPTOCURRENCY   \n",
       "20181227-CRYPTOCURRENCY  f367120f5d8d92d7cbe1f8ef9f898d43  CRYPTOCURRENCY   \n",
       "\n",
       "                        exchangecode  expiration                      fid  \\\n",
       "20181231-CRYPTOCURRENCY            *  2019-01-30  20181231-CRYPTOCURRENCY   \n",
       "20181230-CRYPTOCURRENCY            *  2019-01-29  20181230-CRYPTOCURRENCY   \n",
       "20181229-CRYPTOCURRENCY            *  2019-01-28  20181229-CRYPTOCURRENCY   \n",
       "20181228-CRYPTOCURRENCY            *  2019-01-27  20181228-CRYPTOCURRENCY   \n",
       "20181227-CRYPTOCURRENCY            *  2019-01-26  20181227-CRYPTOCURRENCY   \n",
       "\n",
       "                        orderid  \\\n",
       "20181231-CRYPTOCURRENCY    6792   \n",
       "20181230-CRYPTOCURRENCY    6792   \n",
       "20181229-CRYPTOCURRENCY    6792   \n",
       "20181228-CRYPTOCURRENCY    6792   \n",
       "20181227-CRYPTOCURRENCY    6792   \n",
       "\n",
       "                                                                     s3url  \\\n",
       "20181231-CRYPTOCURRENCY  cmegroup-main-us-east-1-datamine-prod/bitcoin/...   \n",
       "20181230-CRYPTOCURRENCY  cmegroup-main-us-east-1-datamine-prod/bitcoin/...   \n",
       "20181229-CRYPTOCURRENCY  cmegroup-main-us-east-1-datamine-prod/bitcoin/...   \n",
       "20181228-CRYPTOCURRENCY  cmegroup-main-us-east-1-datamine-prod/bitcoin/...   \n",
       "20181227-CRYPTOCURRENCY  cmegroup-main-us-east-1-datamine-prod/bitcoin/...   \n",
       "\n",
       "                            size  \\\n",
       "20181231-CRYPTOCURRENCY  3770560   \n",
       "20181230-CRYPTOCURRENCY  3920966   \n",
       "20181229-CRYPTOCURRENCY  3801534   \n",
       "20181228-CRYPTOCURRENCY  3794378   \n",
       "20181227-CRYPTOCURRENCY  3807716   \n",
       "\n",
       "                                                                       url  \\\n",
       "20181231-CRYPTOCURRENCY  https://datamine.cmegroup.com/cme/api/v1/downl...   \n",
       "20181230-CRYPTOCURRENCY  https://datamine.cmegroup.com/cme/api/v1/downl...   \n",
       "20181229-CRYPTOCURRENCY  https://datamine.cmegroup.com/cme/api/v1/downl...   \n",
       "20181228-CRYPTOCURRENCY  https://datamine.cmegroup.com/cme/api/v1/downl...   \n",
       "20181227-CRYPTOCURRENCY  https://datamine.cmegroup.com/cme/api/v1/downl...   \n",
       "\n",
       "                         yyyymmdd  \n",
       "20181231-CRYPTOCURRENCY  20181231  \n",
       "20181230-CRYPTOCURRENCY  20181230  \n",
       "20181229-CRYPTOCURRENCY  20181229  \n",
       "20181228-CRYPTOCURRENCY  20181228  \n",
       "20181227-CRYPTOCURRENCY  20181227  "
      ]
     },
     "execution_count": 5,
     "metadata": {},
     "output_type": "execute_result"
    }
   ],
   "source": [
    "# We can view the data catalog easier in a Pandas Dataframe\n",
    "dataCatalogDF = pd.DataFrame.from_dict(myDatamine.data_catalog,).T\n",
    "dataCatalogDF.head()"
   ]
  },
  {
   "cell_type": "code",
   "execution_count": 6,
   "metadata": {},
   "outputs": [
    {
     "data": {
      "text/plain": [
       "CRYPTOCURRENCY    29\n",
       "Name: dataset, dtype: int64"
      ]
     },
     "execution_count": 6,
     "metadata": {},
     "output_type": "execute_result"
    }
   ],
   "source": [
    "# We can see how many data products we can access\n",
    "dataCatalogDF.dataset.value_counts()"
   ]
  },
  {
   "cell_type": "markdown",
   "metadata": {},
   "source": [
    "## Using The Data \n",
    "\n",
    "The following will show you example of how the Datamine python module can be used to copy down the data from the cloud to your local computer.  \n",
    "\n",
    "This routine will download the data to the /data/* folder for each specific data set.  This routine copies everything down and overwrites anything locally.  This routine will take time depending upon the amount of data on the cloud that your trying to pull down.  The pulls are multithreaded to speed them up; you can adjust this by adjusting the processes in the MyDatamine object.\n",
    "\n",
    "```myDatamine.processes = 4```"
   ]
  },
  {
   "cell_type": "markdown",
   "metadata": {},
   "source": [
    "### Bitcoin & Crypto Currencies"
   ]
  },
  {
   "cell_type": "code",
   "execution_count": 7,
   "metadata": {},
   "outputs": [
    {
     "name": "stderr",
     "output_type": "stream",
     "text": [
      "downloading CRYPTOCURRENCY data: 100%|██████████| 29/29 [00:07<00:00,  4.42it/s]\n",
      "reading CRYPTOCURRENCY data: 100%|██████████| 29/29 [00:58<00:00,  1.19s/it]\n",
      "concatenating 29 dataframes\n"
     ]
    }
   ],
   "source": [
    "# Load the bitcoin data from datamine cloud and structure into dataframe of myDatamine.bitcoin_DF.  \n",
    "# Will return 0 if successful\n",
    "myDatamine.crypto_load()"
   ]
  },
  {
   "cell_type": "code",
   "execution_count": 8,
   "metadata": {},
   "outputs": [
    {
     "data": {
      "text/html": [
       "<div>\n",
       "<style scoped>\n",
       "    .dataframe tbody tr th:only-of-type {\n",
       "        vertical-align: middle;\n",
       "    }\n",
       "\n",
       "    .dataframe tbody tr th {\n",
       "        vertical-align: top;\n",
       "    }\n",
       "\n",
       "    .dataframe thead th {\n",
       "        text-align: right;\n",
       "    }\n",
       "</style>\n",
       "<table border=\"1\" class=\"dataframe\">\n",
       "  <thead>\n",
       "    <tr style=\"text-align: right;\">\n",
       "      <th></th>\n",
       "      <th>mdEntryCode</th>\n",
       "      <th>mdEntryPx</th>\n",
       "      <th>mdEntryTime</th>\n",
       "      <th>mdUpdateAction</th>\n",
       "      <th>netChgPrevDay</th>\n",
       "      <th>netPctChg</th>\n",
       "      <th>openCloseSettlFlag</th>\n",
       "      <th>rptSeq</th>\n",
       "      <th>symbol</th>\n",
       "    </tr>\n",
       "    <tr>\n",
       "      <th>mdEntryDateTime</th>\n",
       "      <th></th>\n",
       "      <th></th>\n",
       "      <th></th>\n",
       "      <th></th>\n",
       "      <th></th>\n",
       "      <th></th>\n",
       "      <th></th>\n",
       "      <th></th>\n",
       "      <th></th>\n",
       "    </tr>\n",
       "  </thead>\n",
       "  <tbody>\n",
       "    <tr>\n",
       "      <th>2018-12-16 00:00:00+00:00</th>\n",
       "      <td>NaN</td>\n",
       "      <td>3180.16</td>\n",
       "      <td>00:00:00.000</td>\n",
       "      <td>NEW</td>\n",
       "      <td>NaN</td>\n",
       "      <td>NaN</td>\n",
       "      <td>NaN</td>\n",
       "      <td>69618923</td>\n",
       "      <td>BRTI</td>\n",
       "    </tr>\n",
       "    <tr>\n",
       "      <th>2018-12-16 00:00:00+00:00</th>\n",
       "      <td>NaN</td>\n",
       "      <td>82.85</td>\n",
       "      <td>00:00:00.000</td>\n",
       "      <td>NEW</td>\n",
       "      <td>NaN</td>\n",
       "      <td>NaN</td>\n",
       "      <td>NaN</td>\n",
       "      <td>20312694</td>\n",
       "      <td>ETHUSD_RTI</td>\n",
       "    </tr>\n",
       "    <tr>\n",
       "      <th>2018-12-16 00:00:01+00:00</th>\n",
       "      <td>NaN</td>\n",
       "      <td>3180.14</td>\n",
       "      <td>00:00:01.000</td>\n",
       "      <td>NEW</td>\n",
       "      <td>NaN</td>\n",
       "      <td>NaN</td>\n",
       "      <td>NaN</td>\n",
       "      <td>69618924</td>\n",
       "      <td>BRTI</td>\n",
       "    </tr>\n",
       "    <tr>\n",
       "      <th>2018-12-16 00:00:01+00:00</th>\n",
       "      <td>NaN</td>\n",
       "      <td>82.85</td>\n",
       "      <td>00:00:01.000</td>\n",
       "      <td>NEW</td>\n",
       "      <td>NaN</td>\n",
       "      <td>NaN</td>\n",
       "      <td>NaN</td>\n",
       "      <td>20312695</td>\n",
       "      <td>ETHUSD_RTI</td>\n",
       "    </tr>\n",
       "    <tr>\n",
       "      <th>2018-12-16 00:00:02+00:00</th>\n",
       "      <td>NaN</td>\n",
       "      <td>82.85</td>\n",
       "      <td>00:00:02.000</td>\n",
       "      <td>NEW</td>\n",
       "      <td>NaN</td>\n",
       "      <td>NaN</td>\n",
       "      <td>NaN</td>\n",
       "      <td>20312696</td>\n",
       "      <td>ETHUSD_RTI</td>\n",
       "    </tr>\n",
       "  </tbody>\n",
       "</table>\n",
       "</div>"
      ],
      "text/plain": [
       "                          mdEntryCode  mdEntryPx   mdEntryTime mdUpdateAction  \\\n",
       "mdEntryDateTime                                                                 \n",
       "2018-12-16 00:00:00+00:00         NaN    3180.16  00:00:00.000            NEW   \n",
       "2018-12-16 00:00:00+00:00         NaN      82.85  00:00:00.000            NEW   \n",
       "2018-12-16 00:00:01+00:00         NaN    3180.14  00:00:01.000            NEW   \n",
       "2018-12-16 00:00:01+00:00         NaN      82.85  00:00:01.000            NEW   \n",
       "2018-12-16 00:00:02+00:00         NaN      82.85  00:00:02.000            NEW   \n",
       "\n",
       "                           netChgPrevDay  netPctChg openCloseSettlFlag  \\\n",
       "mdEntryDateTime                                                          \n",
       "2018-12-16 00:00:00+00:00            NaN        NaN                NaN   \n",
       "2018-12-16 00:00:00+00:00            NaN        NaN                NaN   \n",
       "2018-12-16 00:00:01+00:00            NaN        NaN                NaN   \n",
       "2018-12-16 00:00:01+00:00            NaN        NaN                NaN   \n",
       "2018-12-16 00:00:02+00:00            NaN        NaN                NaN   \n",
       "\n",
       "                             rptSeq      symbol  \n",
       "mdEntryDateTime                                  \n",
       "2018-12-16 00:00:00+00:00  69618923        BRTI  \n",
       "2018-12-16 00:00:00+00:00  20312694  ETHUSD_RTI  \n",
       "2018-12-16 00:00:01+00:00  69618924        BRTI  \n",
       "2018-12-16 00:00:01+00:00  20312695  ETHUSD_RTI  \n",
       "2018-12-16 00:00:02+00:00  20312696  ETHUSD_RTI  "
      ]
     },
     "execution_count": 8,
     "metadata": {},
     "output_type": "execute_result"
    }
   ],
   "source": [
    "#look at the data frame\n",
    "myDatamine.crypto_DF.head()"
   ]
  },
  {
   "cell_type": "code",
   "execution_count": 9,
   "metadata": {},
   "outputs": [
    {
     "data": {
      "text/plain": [
       "BRTI          2504328\n",
       "ETHUSD_RTI    2503978\n",
       "ETHUSD_RR          29\n",
       "BRR                29\n",
       "Name: symbol, dtype: int64"
      ]
     },
     "execution_count": 9,
     "metadata": {},
     "output_type": "execute_result"
    }
   ],
   "source": [
    "#There are many values in the file; \n",
    "#We are intesested in every second value as 'BRTI' and one daily index that is daily as 'BRR'\n",
    "myDatamine.crypto_DF.symbol.value_counts()"
   ]
  },
  {
   "cell_type": "markdown",
   "metadata": {},
   "source": [
    "### Bitcoin Real Time Index Rate"
   ]
  },
  {
   "cell_type": "code",
   "execution_count": 10,
   "metadata": {},
   "outputs": [
    {
     "data": {
      "image/png": "[encoded data removed]",
      "text/plain": [
       "<Figure size 1080x360 with 1 Axes>"
      ]
     },
     "metadata": {
      "needs_background": "light"
     },
     "output_type": "display_data"
    }
   ],
   "source": [
    "indexValue = myDatamine.crypto_DF.loc[myDatamine.crypto_DF['symbol'] =='BRTI','mdEntryPx'].plot(figsize=[15,5]);\n",
    "plt.title('Historical Bitcoin Intraday Reference Rate')\n",
    "plt.xlabel('Date')\n",
    "plt.ylabel('USD/BTC')\n",
    "plt.style.use('fivethirtyeight')\n",
    "plt.savefig('./images/BitcoinRTIndexValue.png')\n",
    "plt.show()"
   ]
  },
  {
   "cell_type": "markdown",
   "metadata": {},
   "source": [
    "## Bitcoin End of Day Value\n",
    "\n",
    "\n"
   ]
  },
  {
   "cell_type": "code",
   "execution_count": 11,
   "metadata": {},
   "outputs": [
    {
     "data": {
      "image/png": "[encoded data removed]",
      "text/plain": [
       "<Figure size 1080x360 with 1 Axes>"
      ]
     },
     "metadata": {},
     "output_type": "display_data"
    }
   ],
   "source": [
    "myDatamine.crypto_DF.loc[myDatamine.crypto_DF['symbol'] =='BRR','mdEntryPx'].plot(figsize=[15,5])\n",
    "plt.title('Historical Bitcoin Daily Value')\n",
    "plt.xlabel('Date')\n",
    "plt.ylabel('USD/BTC')\n",
    "plt.style.use('fivethirtyeight')\n",
    "plt.savefig('./images/BitcoinEndofDayValue.png')\n",
    "plt.show()"
   ]
  },
  {
   "cell_type": "markdown",
   "metadata": {},
   "source": [
    "## Tick Data / Time and Sales\n",
    "\n",
    "Tick data is considered Time and Sales.  This is data that represents the time that a specific product was traded between two parties at a given price.  The following will download the data local and load it into a Pandas DataFrame for analysis."
   ]
  },
  {
   "cell_type": "code",
   "execution_count": 12,
   "metadata": {},
   "outputs": [
    {
     "name": "stderr",
     "output_type": "stream",
     "text": [
      "get_catalog: retrieving TICK, limit 1000\n",
      "get_catalog: 59 records downloaded, 0 duplicates, 59 saved\n"
     ]
    }
   ],
   "source": [
    "#update my catalog with Tick Data\n",
    "myDatamine.get_catalog(dataset='TICK', limit=1000, refresh=True)"
   ]
  },
  {
   "cell_type": "code",
   "execution_count": 13,
   "metadata": {},
   "outputs": [],
   "source": [
    "#download and load my data\n",
    "#Tick Data can be a lot of files and can take time to load into a Pandas Dataframe...\n",
    "myDatamine.time_sales_load(False)"
   ]
  },
  {
   "cell_type": "code",
   "execution_count": 14,
   "metadata": {},
   "outputs": [
    {
     "data": {
      "text/html": [
       "<div>\n",
       "<style scoped>\n",
       "    .dataframe tbody tr th:only-of-type {\n",
       "        vertical-align: middle;\n",
       "    }\n",
       "\n",
       "    .dataframe tbody tr th {\n",
       "        vertical-align: top;\n",
       "    }\n",
       "\n",
       "    .dataframe thead th {\n",
       "        text-align: right;\n",
       "    }\n",
       "</style>\n",
       "<table border=\"1\" class=\"dataframe\">\n",
       "  <thead>\n",
       "    <tr style=\"text-align: right;\">\n",
       "      <th></th>\n",
       "      <th>trade_date_time</th>\n",
       "      <th>trade_date</th>\n",
       "      <th>trade_time</th>\n",
       "      <th>trade_sequence_number</th>\n",
       "      <th>session_indicator</th>\n",
       "      <th>ticker_symbol</th>\n",
       "      <th>future_option_index_indicator</th>\n",
       "      <th>contract_delivery_date</th>\n",
       "      <th>trade_quantity</th>\n",
       "      <th>strike_price</th>\n",
       "      <th>...</th>\n",
       "      <th>close_open_type</th>\n",
       "      <th>valid_open_exception</th>\n",
       "      <th>post_close</th>\n",
       "      <th>cancel_code_type</th>\n",
       "      <th>insert_code_type</th>\n",
       "      <th>fast_late_indicator</th>\n",
       "      <th>cabinet_indicator</th>\n",
       "      <th>book_indicator</th>\n",
       "      <th>entry_date</th>\n",
       "      <th>exchange_code</th>\n",
       "    </tr>\n",
       "  </thead>\n",
       "  <tbody>\n",
       "    <tr>\n",
       "      <th>0</th>\n",
       "      <td>2018-07-10 19:09:51+00:00</td>\n",
       "      <td>1970-01-01 00:00:00.020180710+00:00</td>\n",
       "      <td>19:09:51</td>\n",
       "      <td>3541</td>\n",
       "      <td>E</td>\n",
       "      <td>ED</td>\n",
       "      <td>F</td>\n",
       "      <td>1807</td>\n",
       "      <td>200</td>\n",
       "      <td>0.0</td>\n",
       "      <td>...</td>\n",
       "      <td>NaN</td>\n",
       "      <td>NaN</td>\n",
       "      <td>NaN</td>\n",
       "      <td>NaN</td>\n",
       "      <td>NaN</td>\n",
       "      <td>NaN</td>\n",
       "      <td>NaN</td>\n",
       "      <td>NaN</td>\n",
       "      <td>20180709</td>\n",
       "      <td>XCME</td>\n",
       "    </tr>\n",
       "    <tr>\n",
       "      <th>1</th>\n",
       "      <td>2018-07-10 19:09:51+00:00</td>\n",
       "      <td>1970-01-01 00:00:00.020180710+00:00</td>\n",
       "      <td>19:09:51</td>\n",
       "      <td>3546</td>\n",
       "      <td>E</td>\n",
       "      <td>ED</td>\n",
       "      <td>F</td>\n",
       "      <td>1807</td>\n",
       "      <td>0</td>\n",
       "      <td>0.0</td>\n",
       "      <td>...</td>\n",
       "      <td>O</td>\n",
       "      <td>NaN</td>\n",
       "      <td>NaN</td>\n",
       "      <td>NaN</td>\n",
       "      <td>NaN</td>\n",
       "      <td>NaN</td>\n",
       "      <td>NaN</td>\n",
       "      <td>NaN</td>\n",
       "      <td>20180709</td>\n",
       "      <td>XCME</td>\n",
       "    </tr>\n",
       "    <tr>\n",
       "      <th>2</th>\n",
       "      <td>2018-07-10 01:00:20+00:00</td>\n",
       "      <td>1970-01-01 00:00:00.020180710+00:00</td>\n",
       "      <td>01:00:20</td>\n",
       "      <td>4041</td>\n",
       "      <td>E</td>\n",
       "      <td>ED</td>\n",
       "      <td>F</td>\n",
       "      <td>1807</td>\n",
       "      <td>500</td>\n",
       "      <td>0.0</td>\n",
       "      <td>...</td>\n",
       "      <td>NaN</td>\n",
       "      <td>NaN</td>\n",
       "      <td>NaN</td>\n",
       "      <td>NaN</td>\n",
       "      <td>NaN</td>\n",
       "      <td>NaN</td>\n",
       "      <td>NaN</td>\n",
       "      <td>NaN</td>\n",
       "      <td>20180710</td>\n",
       "      <td>XCME</td>\n",
       "    </tr>\n",
       "    <tr>\n",
       "      <th>3</th>\n",
       "      <td>2018-07-10 01:39:18+00:00</td>\n",
       "      <td>1970-01-01 00:00:00.020180710+00:00</td>\n",
       "      <td>01:39:18</td>\n",
       "      <td>4569</td>\n",
       "      <td>E</td>\n",
       "      <td>ED</td>\n",
       "      <td>F</td>\n",
       "      <td>1807</td>\n",
       "      <td>1000</td>\n",
       "      <td>0.0</td>\n",
       "      <td>...</td>\n",
       "      <td>NaN</td>\n",
       "      <td>NaN</td>\n",
       "      <td>NaN</td>\n",
       "      <td>NaN</td>\n",
       "      <td>NaN</td>\n",
       "      <td>NaN</td>\n",
       "      <td>NaN</td>\n",
       "      <td>NaN</td>\n",
       "      <td>20180710</td>\n",
       "      <td>XCME</td>\n",
       "    </tr>\n",
       "    <tr>\n",
       "      <th>4</th>\n",
       "      <td>2018-07-10 01:44:07+00:00</td>\n",
       "      <td>1970-01-01 00:00:00.020180710+00:00</td>\n",
       "      <td>01:44:07</td>\n",
       "      <td>4583</td>\n",
       "      <td>E</td>\n",
       "      <td>ED</td>\n",
       "      <td>F</td>\n",
       "      <td>1807</td>\n",
       "      <td>5</td>\n",
       "      <td>0.0</td>\n",
       "      <td>...</td>\n",
       "      <td>NaN</td>\n",
       "      <td>NaN</td>\n",
       "      <td>NaN</td>\n",
       "      <td>NaN</td>\n",
       "      <td>NaN</td>\n",
       "      <td>NaN</td>\n",
       "      <td>NaN</td>\n",
       "      <td>NaN</td>\n",
       "      <td>20180710</td>\n",
       "      <td>XCME</td>\n",
       "    </tr>\n",
       "  </tbody>\n",
       "</table>\n",
       "<p>5 rows × 24 columns</p>\n",
       "</div>"
      ],
      "text/plain": [
       "            trade_date_time                          trade_date trade_time  \\\n",
       "0 2018-07-10 19:09:51+00:00 1970-01-01 00:00:00.020180710+00:00   19:09:51   \n",
       "1 2018-07-10 19:09:51+00:00 1970-01-01 00:00:00.020180710+00:00   19:09:51   \n",
       "2 2018-07-10 01:00:20+00:00 1970-01-01 00:00:00.020180710+00:00   01:00:20   \n",
       "3 2018-07-10 01:39:18+00:00 1970-01-01 00:00:00.020180710+00:00   01:39:18   \n",
       "4 2018-07-10 01:44:07+00:00 1970-01-01 00:00:00.020180710+00:00   01:44:07   \n",
       "\n",
       "   trade_sequence_number session_indicator ticker_symbol  \\\n",
       "0                   3541                 E            ED   \n",
       "1                   3546                 E            ED   \n",
       "2                   4041                 E            ED   \n",
       "3                   4569                 E            ED   \n",
       "4                   4583                 E            ED   \n",
       "\n",
       "  future_option_index_indicator  contract_delivery_date  trade_quantity  \\\n",
       "0                             F                    1807             200   \n",
       "1                             F                    1807               0   \n",
       "2                             F                    1807             500   \n",
       "3                             F                    1807            1000   \n",
       "4                             F                    1807               5   \n",
       "\n",
       "   strike_price      ...       close_open_type valid_open_exception  \\\n",
       "0           0.0      ...                   NaN                  NaN   \n",
       "1           0.0      ...                     O                  NaN   \n",
       "2           0.0      ...                   NaN                  NaN   \n",
       "3           0.0      ...                   NaN                  NaN   \n",
       "4           0.0      ...                   NaN                  NaN   \n",
       "\n",
       "  post_close  cancel_code_type insert_code_type fast_late_indicator  \\\n",
       "0        NaN               NaN              NaN                 NaN   \n",
       "1        NaN               NaN              NaN                 NaN   \n",
       "2        NaN               NaN              NaN                 NaN   \n",
       "3        NaN               NaN              NaN                 NaN   \n",
       "4        NaN               NaN              NaN                 NaN   \n",
       "\n",
       "  cabinet_indicator book_indicator entry_date exchange_code  \n",
       "0               NaN            NaN   20180709          XCME  \n",
       "1               NaN            NaN   20180709          XCME  \n",
       "2               NaN            NaN   20180710          XCME  \n",
       "3               NaN            NaN   20180710          XCME  \n",
       "4               NaN            NaN   20180710          XCME  \n",
       "\n",
       "[5 rows x 24 columns]"
      ]
     },
     "execution_count": 14,
     "metadata": {},
     "output_type": "execute_result"
    }
   ],
   "source": [
    "ts = myDatamine.time_sales_DF\n",
    "ts.head()"
   ]
  },
  {
   "cell_type": "code",
   "execution_count": 15,
   "metadata": {},
   "outputs": [
    {
     "data": {
      "text/plain": [
       "ED    19829\n",
       "Name: ticker_symbol, dtype: int64"
      ]
     },
     "execution_count": 15,
     "metadata": {},
     "output_type": "execute_result"
    }
   ],
   "source": [
    "#Review the Symbols we have loaded.  ED= Eurodollars\n",
    "#See https://www.cmegroup.com/trading/products/#pageNumber=1&sortField=oi&sortAsc=false for product code and information\n",
    "ts.ticker_symbol.value_counts()"
   ]
  },
  {
   "cell_type": "code",
   "execution_count": 16,
   "metadata": {},
   "outputs": [
    {
     "data": {
      "image/png": "[encoded data removed]",
      "text/plain": [
       "<Figure size 432x288 with 1 Axes>"
      ]
     },
     "metadata": {},
     "output_type": "display_data"
    }
   ],
   "source": [
    "#Plot Histogram of lot size of a given trade for Euro Dollars Oil\n",
    "ts.loc[ts.ticker_symbol =='ED','trade_quantity'].hist(bins=20).set_yscale('log')"
   ]
  }
 ],
 "metadata": {
  "kernelspec": {
   "display_name": "Python 3",
   "language": "python",
   "name": "python3"
  },
  "language_info": {
   "codemirror_mode": {
    "name": "ipython",
    "version": 3
   },
   "file_extension": ".py",
   "mimetype": "text/x-python",
   "name": "python",
   "nbconvert_exporter": "python",
   "pygments_lexer": "ipython3",
   "version": "3.6.7"
  }
 },
 "nbformat": 4,
 "nbformat_minor": 1
}
