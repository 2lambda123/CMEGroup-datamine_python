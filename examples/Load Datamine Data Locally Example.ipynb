{
 "cells": [
  {
   "cell_type": "markdown",
   "metadata": {
    "collapsed": true
   },
   "source": [
    "# Load Datamine Data Locally\n",
    "\n",
    "This workbook will demonstrate using the datamine package to source all your datamine data from CME Group and save it into local folders.\n",
    "\n",
    "This is a working example for reference and is a starting point for more advanced use cases.  This workbook will demonstrate the following workflow\n",
    "1. Credentialling into Datamine\n",
    "2. Retrieving your data catalog of items\n",
    "3. Downloading your data items to your local directories\n",
    "\n",
    "This package does take some basic shortcuts to keep things simple.  They may be improved over time.  This includes\n",
    "1. Package is not cacheing your data catalog locally.  It downloads the catalog each time; if you have a lot of data items (i.e. > 10,000 this may take some time.)\n",
    "2. Package is always downloading all data from Datamine for a given data collection.  It will overwrite local copies of the data.  \n",
    "\n"
   ]
  },
  {
   "cell_type": "code",
   "execution_count": null,
   "metadata": {},
   "outputs": [],
   "source": [
    "import datamine.io as dm\n",
    "import pandas as pd\n",
    "import warnings\n",
    "warnings.filterwarnings(\"ignore\")\n",
    "import matplotlib.pyplot as plt\n",
    "import matplotlib.dates as mdates\n",
    "from matplotlib import style\n",
    "style.use('fivethirtyeight')\n",
    "\n",
    "%matplotlib inline"
   ]
  },
  {
   "cell_type": "code",
   "execution_count": null,
   "metadata": {},
   "outputs": [],
   "source": [
    "#Establish an object to interact with CME Datamine.\n",
    "#Supply Credentials per Documentation: http://www.cmegroup.com/market-data/datamine-api.html\n",
    "myDatamine = dm.DatamineCon(username='', password='^', path='./data/')"
   ]
  },
  {
   "cell_type": "markdown",
   "metadata": {},
   "source": [
    "## Get Your Catalog Of Data\n",
    "\n",
    "Datamine hosts all your subscriptions for download which you can see in the GUI.  https://datamine.cmegroup.com/\n",
    "\n",
    "The following code will download a catalog of all your items.  We will turn that into a Pandas DataFrame to see what data we have in our account.\n"
   ]
  },
  {
   "cell_type": "code",
   "execution_count": null,
   "metadata": {
    "scrolled": true
   },
   "outputs": [],
   "source": [
    "#Get the first 1,000 items for Crytocurrencies\n",
    "myDatamine.get_catalog(dataset='CRYPTOCURRENCY', limit=1000)"
   ]
  },
  {
   "cell_type": "code",
   "execution_count": null,
   "metadata": {},
   "outputs": [],
   "source": [
    "myDatamine.get_catalog()"
   ]
  },
  {
   "cell_type": "code",
   "execution_count": null,
   "metadata": {},
   "outputs": [],
   "source": [
    "# Review one of the data catalog items as supplied in dict format.  \n",
    "myDatamine.data_catalog.popitem()"
   ]
  },
  {
   "cell_type": "code",
   "execution_count": null,
   "metadata": {},
   "outputs": [],
   "source": [
    "# We can view the data catalog easier in a Pandas Dataframe\n",
    "dataCatalogDF = pd.DataFrame.from_dict(myDatamine.data_catalog,).T\n",
    "dataCatalogDF.head()"
   ]
  },
  {
   "cell_type": "code",
   "execution_count": null,
   "metadata": {},
   "outputs": [],
   "source": [
    "# We can see how many data products we can access\n",
    "dataCatalogDF.dataset.value_counts()"
   ]
  },
  {
   "cell_type": "markdown",
   "metadata": {},
   "source": [
    "## Using The Data \n",
    "\n",
    "The following will show you example of how the Datamine python module can be used to copy down the data from the cloud to your local computer.  \n",
    "\n",
    "This routine will download the data to the /data/* folder for each specific data set.  This routine copies everything down and overwrites anything locally.  This routine will take time depending upon the amount of data on the cloud that your trying to pull down.  The pulls are multithreaded to speed them up; you can adjust this by adjusting the processes in the MyDatamine object.\n",
    "\n",
    "```myDatamine.processes = 4```"
   ]
  },
  {
   "cell_type": "markdown",
   "metadata": {},
   "source": [
    "### Bitcoin & Crypto Currencies"
   ]
  },
  {
   "cell_type": "code",
   "execution_count": null,
   "metadata": {},
   "outputs": [],
   "source": [
    "# Load the bitcoin data from datamine cloud and structure into dataframe of myDatamine.bitcoin_DF.  \n",
    "# Will return 0 if successful\n",
    "myDatamine.crypto_load(False)"
   ]
  },
  {
   "cell_type": "code",
   "execution_count": null,
   "metadata": {},
   "outputs": [],
   "source": [
    "#look at the data frame\n",
    "myDatamine.crypto_DF.head()"
   ]
  },
  {
   "cell_type": "code",
   "execution_count": null,
   "metadata": {},
   "outputs": [],
   "source": [
    "#There are many values in the file; one that is every second as 'BRTI and one that is daily as 'BRR'\n",
    "myDatamine.crypto_DF.symbol.value_counts()"
   ]
  },
  {
   "cell_type": "markdown",
   "metadata": {},
   "source": [
    "### Bitcoin Index Rate"
   ]
  },
  {
   "cell_type": "code",
   "execution_count": null,
   "metadata": {},
   "outputs": [],
   "source": [
    "indexValue = myDatamine.crypto_DF.loc[myDatamine.crypto_DF['symbol'] =='BRTI','mdEntryPx'].plot(figsize=[15,5]);\n",
    "plt.title('Historical Bitcoin Intraday Reference Rate')\n",
    "plt.xlabel('Date')\n",
    "plt.ylabel('USD/BTC')\n",
    "plt.style.use('fivethirtyeight')\n",
    "plt.show()"
   ]
  },
  {
   "cell_type": "markdown",
   "metadata": {},
   "source": [
    "## Bitcoin End of Day Value\n",
    "\n",
    "\n"
   ]
  },
  {
   "cell_type": "code",
   "execution_count": null,
   "metadata": {},
   "outputs": [],
   "source": [
    "myDatamine.crypto_DF.loc[myDatamine.crypto_DF['symbol'] =='BRR','mdEntryPx'].plot(figsize=[15,5])\n",
    "plt.title('Historical Bitcoin Daily Value')\n",
    "plt.xlabel('Date')\n",
    "plt.ylabel('$/btc')\n",
    "plt.style.use('fivethirtyeight')\n",
    "plt.show()"
   ]
  },
  {
   "cell_type": "markdown",
   "metadata": {},
   "source": [
    "## Tick Data / Time and Sales\n",
    "\n",
    "Tick data is considered Time and Sales.  This is data that represents the time that a specific product was traded between two parties at a given price.  The following will download the data local and load it into a Pandas DataFrame for analysis."
   ]
  },
  {
   "cell_type": "code",
   "execution_count": null,
   "metadata": {},
   "outputs": [],
   "source": [
    "#update my catalog with Tick Data\n",
    "myDatamine.get_catalog(dataset='TICK', limit=1000, refresh=True)"
   ]
  },
  {
   "cell_type": "code",
   "execution_count": null,
   "metadata": {},
   "outputs": [],
   "source": [
    "#download and load my data\n",
    "#Tick Data can be a lot of files and can take time to load into a Pandas Dataframe...\n",
    "myDatamine.time_sales_load(False)"
   ]
  },
  {
   "cell_type": "code",
   "execution_count": null,
   "metadata": {},
   "outputs": [],
   "source": [
    "ts = myDatamine.time_sales_DF\n",
    "ts.head()"
   ]
  },
  {
   "cell_type": "code",
   "execution_count": null,
   "metadata": {},
   "outputs": [],
   "source": [
    "#Review the Symbols we have loaded.\n",
    "ts.ticker_symbol.value_counts()"
   ]
  },
  {
   "cell_type": "code",
   "execution_count": null,
   "metadata": {},
   "outputs": [],
   "source": [
    "#Plot Histogram of lot size of a given trade for Crude Oil\n",
    "ts.loc[ts.ticker_symbol =='CL','trade_quantity'].hist(bins=20).set_yscale('log')"
   ]
  },
  {
   "cell_type": "markdown",
   "metadata": {},
   "source": [
    "## Orbital Insights\n",
    "\n"
   ]
  },
  {
   "cell_type": "code",
   "execution_count": null,
   "metadata": {},
   "outputs": [],
   "source": [
    "#Get some Orbital Insights Data\n",
    "myDatamine.get_catalog(dataset='ORBITALINSIGHT', limit=1000, refresh=True)\n"
   ]
  },
  {
   "cell_type": "code",
   "execution_count": null,
   "metadata": {},
   "outputs": [],
   "source": [
    "myDatamine.orbital_insights_load(False)"
   ]
  },
  {
   "cell_type": "code",
   "execution_count": null,
   "metadata": {},
   "outputs": [],
   "source": [
    "myDatamine.orbital_insights_DF.head()"
   ]
  },
  {
   "cell_type": "code",
   "execution_count": null,
   "metadata": {},
   "outputs": [],
   "source": [
    "myDatamine.orbital_insights_DF.loc[myDatamine.orbital_insights_DF['location'] \n",
    "                                   == 'USA_permian','storage_capacity_estimate'\n",
    "                                  ].dropna().plot(figsize=[15,5])\n",
    "plt.title('Historical Permium Base Estimated Storage Capacity')\n",
    "plt.xlabel('Date')\n",
    "plt.ylabel('Barrels (M)')\n",
    "plt.style.use('fivethirtyeight')\n",
    "plt.show()"
   ]
  },
  {
   "cell_type": "markdown",
   "metadata": {},
   "source": [
    "# Tellus Labs"
   ]
  },
  {
   "cell_type": "code",
   "execution_count": null,
   "metadata": {},
   "outputs": [],
   "source": [
    "myDatamine.get_catalog(dataset='TELLUSLABS', limit=5000, refresh=True)\n",
    "myDatamine.tellus_labs_load(False)"
   ]
  },
  {
   "cell_type": "code",
   "execution_count": null,
   "metadata": {},
   "outputs": [],
   "source": [
    "myDatamine.tellus_labs_DF.head()"
   ]
  },
  {
   "cell_type": "code",
   "execution_count": null,
   "metadata": {},
   "outputs": [],
   "source": [
    "#There are two measures for Tellus: SATTELNDVI and TELLUSCHIN\n",
    "myDatamine.tellus_labs_DF.measure.value_counts()"
   ]
  },
  {
   "cell_type": "code",
   "execution_count": null,
   "metadata": {},
   "outputs": [],
   "source": [
    "myDatamine.tellus_labs_DF.loc[(myDatamine.tellus_labs_DF['geo_display_name']  == 'IOWA')\n",
    "                              & (myDatamine.tellus_labs_DF['measure']  == 'TELLUSCHIN')\n",
    "                              & (myDatamine.tellus_labs_DF['crop']=='corn')\n",
    "                              & (myDatamine.tellus_labs_DF['geo_level'] == 'level_2')\n",
    "                              ,'value'\n",
    "                                  ].dropna().plot(figsize=[15,5])\n",
    "plt.title('Tellus Historical United States TELLUSCHIN Measure')\n",
    "plt.xlabel('Date')\n",
    "plt.ylabel('NDVI')\n",
    "plt.style.use('fivethirtyeight')\n",
    "plt.show()"
   ]
  },
  {
   "cell_type": "code",
   "execution_count": null,
   "metadata": {},
   "outputs": [],
   "source": []
  }
 ],
 "metadata": {
  "kernelspec": {
   "display_name": "Python 3",
   "language": "python",
   "name": "python3"
  },
  "language_info": {
   "codemirror_mode": {
    "name": "ipython",
    "version": 3
   },
   "file_extension": ".py",
   "mimetype": "text/x-python",
   "name": "python",
   "nbconvert_exporter": "python",
   "pygments_lexer": "ipython3",
   "version": "3.7.1"
  }
 },
 "nbformat": 4,
 "nbformat_minor": 1
}
